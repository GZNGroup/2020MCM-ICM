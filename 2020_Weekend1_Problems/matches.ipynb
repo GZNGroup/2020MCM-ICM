{
 "nbformat": 4,
 "nbformat_minor": 2,
 "metadata": {
  "language_info": {
   "name": "python",
   "codemirror_mode": {
    "name": "ipython",
    "version": 3
   },
   "version": "3.6.8-final"
  },
  "orig_nbformat": 2,
  "file_extension": ".py",
  "mimetype": "text/x-python",
  "name": "python",
  "npconvert_exporter": "python",
  "pygments_lexer": "ipython3",
  "version": 3,
  "kernelspec": {
   "name": "python36864bitpython36condae27ac4404c2346e38b04567e90758994",
   "display_name": "Python 3.6.8 64-bit ('python36': conda)"
  }
 },
 "cells": [
  {
   "cell_type": "code",
   "execution_count": 143,
   "metadata": {},
   "outputs": [],
   "source": [
    "import numpy as np\n",
    "import pandas as pd\n",
    "from matplotlib import pyplot as plt\n",
    "%matplotlib inline\n",
    "import seaborn as sns\n",
    "from sklearn.ensemble import RandomForestRegressor\n",
    "from sklearn.model_selection import train_test_split\n",
    "from sklearn.metrics import r2_score"
   ]
  },
  {
   "cell_type": "code",
   "execution_count": 144,
   "metadata": {},
   "outputs": [
    {
     "data": {
      "text/html": "<div>\n<style scoped>\n    .dataframe tbody tr th:only-of-type {\n        vertical-align: middle;\n    }\n\n    .dataframe tbody tr th {\n        vertical-align: top;\n    }\n\n    .dataframe thead th {\n        text-align: right;\n    }\n</style>\n<table border=\"1\" class=\"dataframe\">\n  <thead>\n    <tr style=\"text-align: right;\">\n      <th></th>\n      <th>MatchID</th>\n      <th>OpponentID</th>\n      <th>GoalDiff</th>\n      <th>OwnScore</th>\n      <th>OpponentScore</th>\n      <th>Side</th>\n      <th>CoachID</th>\n    </tr>\n  </thead>\n  <tbody>\n    <tr>\n      <th>0</th>\n      <td>1</td>\n      <td>1</td>\n      <td>1</td>\n      <td>1</td>\n      <td>0</td>\n      <td>1</td>\n      <td>1</td>\n    </tr>\n    <tr>\n      <th>1</th>\n      <td>2</td>\n      <td>2</td>\n      <td>0</td>\n      <td>1</td>\n      <td>1</td>\n      <td>-1</td>\n      <td>1</td>\n    </tr>\n    <tr>\n      <th>2</th>\n      <td>3</td>\n      <td>3</td>\n      <td>-2</td>\n      <td>0</td>\n      <td>2</td>\n      <td>-1</td>\n      <td>1</td>\n    </tr>\n    <tr>\n      <th>3</th>\n      <td>4</td>\n      <td>4</td>\n      <td>-3</td>\n      <td>0</td>\n      <td>3</td>\n      <td>1</td>\n      <td>1</td>\n    </tr>\n    <tr>\n      <th>4</th>\n      <td>5</td>\n      <td>5</td>\n      <td>-4</td>\n      <td>0</td>\n      <td>4</td>\n      <td>-1</td>\n      <td>1</td>\n    </tr>\n    <tr>\n      <th>5</th>\n      <td>6</td>\n      <td>6</td>\n      <td>1</td>\n      <td>2</td>\n      <td>1</td>\n      <td>1</td>\n      <td>1</td>\n    </tr>\n    <tr>\n      <th>6</th>\n      <td>7</td>\n      <td>7</td>\n      <td>-1</td>\n      <td>0</td>\n      <td>1</td>\n      <td>1</td>\n      <td>1</td>\n    </tr>\n    <tr>\n      <th>7</th>\n      <td>8</td>\n      <td>8</td>\n      <td>0</td>\n      <td>1</td>\n      <td>1</td>\n      <td>-1</td>\n      <td>1</td>\n    </tr>\n    <tr>\n      <th>8</th>\n      <td>9</td>\n      <td>9</td>\n      <td>-3</td>\n      <td>2</td>\n      <td>5</td>\n      <td>1</td>\n      <td>1</td>\n    </tr>\n    <tr>\n      <th>9</th>\n      <td>10</td>\n      <td>1</td>\n      <td>-2</td>\n      <td>0</td>\n      <td>2</td>\n      <td>-1</td>\n      <td>2</td>\n    </tr>\n    <tr>\n      <th>10</th>\n      <td>11</td>\n      <td>1</td>\n      <td>1</td>\n      <td>3</td>\n      <td>2</td>\n      <td>1</td>\n      <td>2</td>\n    </tr>\n    <tr>\n      <th>11</th>\n      <td>12</td>\n      <td>1</td>\n      <td>0</td>\n      <td>2</td>\n      <td>2</td>\n      <td>-1</td>\n      <td>2</td>\n    </tr>\n    <tr>\n      <th>12</th>\n      <td>13</td>\n      <td>1</td>\n      <td>-3</td>\n      <td>1</td>\n      <td>4</td>\n      <td>-1</td>\n      <td>2</td>\n    </tr>\n    <tr>\n      <th>13</th>\n      <td>14</td>\n      <td>1</td>\n      <td>4</td>\n      <td>4</td>\n      <td>0</td>\n      <td>1</td>\n      <td>2</td>\n    </tr>\n    <tr>\n      <th>14</th>\n      <td>15</td>\n      <td>1</td>\n      <td>2</td>\n      <td>2</td>\n      <td>0</td>\n      <td>1</td>\n      <td>3</td>\n    </tr>\n    <tr>\n      <th>15</th>\n      <td>16</td>\n      <td>1</td>\n      <td>0</td>\n      <td>1</td>\n      <td>1</td>\n      <td>-1</td>\n      <td>3</td>\n    </tr>\n    <tr>\n      <th>16</th>\n      <td>17</td>\n      <td>1</td>\n      <td>1</td>\n      <td>1</td>\n      <td>0</td>\n      <td>-1</td>\n      <td>3</td>\n    </tr>\n    <tr>\n      <th>17</th>\n      <td>18</td>\n      <td>1</td>\n      <td>2</td>\n      <td>3</td>\n      <td>1</td>\n      <td>1</td>\n      <td>3</td>\n    </tr>\n    <tr>\n      <th>18</th>\n      <td>19</td>\n      <td>3</td>\n      <td>0</td>\n      <td>0</td>\n      <td>0</td>\n      <td>1</td>\n      <td>3</td>\n    </tr>\n    <tr>\n      <th>19</th>\n      <td>20</td>\n      <td>1</td>\n      <td>0</td>\n      <td>0</td>\n      <td>0</td>\n      <td>-1</td>\n      <td>3</td>\n    </tr>\n    <tr>\n      <th>20</th>\n      <td>21</td>\n      <td>6</td>\n      <td>-1</td>\n      <td>1</td>\n      <td>2</td>\n      <td>-1</td>\n      <td>3</td>\n    </tr>\n    <tr>\n      <th>21</th>\n      <td>22</td>\n      <td>5</td>\n      <td>-2</td>\n      <td>0</td>\n      <td>2</td>\n      <td>1</td>\n      <td>3</td>\n    </tr>\n    <tr>\n      <th>22</th>\n      <td>23</td>\n      <td>4</td>\n      <td>-4</td>\n      <td>0</td>\n      <td>4</td>\n      <td>-1</td>\n      <td>3</td>\n    </tr>\n    <tr>\n      <th>23</th>\n      <td>24</td>\n      <td>1</td>\n      <td>0</td>\n      <td>1</td>\n      <td>1</td>\n      <td>1</td>\n      <td>3</td>\n    </tr>\n    <tr>\n      <th>24</th>\n      <td>25</td>\n      <td>1</td>\n      <td>1</td>\n      <td>2</td>\n      <td>1</td>\n      <td>1</td>\n      <td>3</td>\n    </tr>\n    <tr>\n      <th>25</th>\n      <td>26</td>\n      <td>9</td>\n      <td>-4</td>\n      <td>1</td>\n      <td>5</td>\n      <td>-1</td>\n      <td>3</td>\n    </tr>\n    <tr>\n      <th>26</th>\n      <td>27</td>\n      <td>1</td>\n      <td>2</td>\n      <td>3</td>\n      <td>1</td>\n      <td>1</td>\n      <td>3</td>\n    </tr>\n    <tr>\n      <th>27</th>\n      <td>28</td>\n      <td>1</td>\n      <td>-1</td>\n      <td>0</td>\n      <td>1</td>\n      <td>-1</td>\n      <td>3</td>\n    </tr>\n    <tr>\n      <th>28</th>\n      <td>29</td>\n      <td>7</td>\n      <td>-1</td>\n      <td>1</td>\n      <td>2</td>\n      <td>-1</td>\n      <td>3</td>\n    </tr>\n    <tr>\n      <th>29</th>\n      <td>30</td>\n      <td>8</td>\n      <td>2</td>\n      <td>2</td>\n      <td>0</td>\n      <td>1</td>\n      <td>3</td>\n    </tr>\n    <tr>\n      <th>30</th>\n      <td>31</td>\n      <td>1</td>\n      <td>1</td>\n      <td>2</td>\n      <td>1</td>\n      <td>-1</td>\n      <td>3</td>\n    </tr>\n    <tr>\n      <th>31</th>\n      <td>32</td>\n      <td>2</td>\n      <td>-2</td>\n      <td>1</td>\n      <td>3</td>\n      <td>1</td>\n      <td>3</td>\n    </tr>\n    <tr>\n      <th>32</th>\n      <td>33</td>\n      <td>1</td>\n      <td>0</td>\n      <td>0</td>\n      <td>0</td>\n      <td>1</td>\n      <td>3</td>\n    </tr>\n    <tr>\n      <th>33</th>\n      <td>34</td>\n      <td>1</td>\n      <td>0</td>\n      <td>1</td>\n      <td>1</td>\n      <td>-1</td>\n      <td>3</td>\n    </tr>\n    <tr>\n      <th>34</th>\n      <td>35</td>\n      <td>1</td>\n      <td>1</td>\n      <td>1</td>\n      <td>0</td>\n      <td>1</td>\n      <td>3</td>\n    </tr>\n    <tr>\n      <th>35</th>\n      <td>36</td>\n      <td>1</td>\n      <td>2</td>\n      <td>2</td>\n      <td>0</td>\n      <td>-1</td>\n      <td>3</td>\n    </tr>\n    <tr>\n      <th>36</th>\n      <td>37</td>\n      <td>1</td>\n      <td>0</td>\n      <td>1</td>\n      <td>1</td>\n      <td>1</td>\n      <td>3</td>\n    </tr>\n    <tr>\n      <th>37</th>\n      <td>38</td>\n      <td>1</td>\n      <td>-2</td>\n      <td>1</td>\n      <td>3</td>\n      <td>-1</td>\n      <td>3</td>\n    </tr>\n  </tbody>\n</table>\n</div>",
      "text/plain": "    MatchID  OpponentID  GoalDiff  OwnScore  OpponentScore  Side  CoachID\n0         1           1         1         1              0     1        1\n1         2           2         0         1              1    -1        1\n2         3           3        -2         0              2    -1        1\n3         4           4        -3         0              3     1        1\n4         5           5        -4         0              4    -1        1\n5         6           6         1         2              1     1        1\n6         7           7        -1         0              1     1        1\n7         8           8         0         1              1    -1        1\n8         9           9        -3         2              5     1        1\n9        10           1        -2         0              2    -1        2\n10       11           1         1         3              2     1        2\n11       12           1         0         2              2    -1        2\n12       13           1        -3         1              4    -1        2\n13       14           1         4         4              0     1        2\n14       15           1         2         2              0     1        3\n15       16           1         0         1              1    -1        3\n16       17           1         1         1              0    -1        3\n17       18           1         2         3              1     1        3\n18       19           3         0         0              0     1        3\n19       20           1         0         0              0    -1        3\n20       21           6        -1         1              2    -1        3\n21       22           5        -2         0              2     1        3\n22       23           4        -4         0              4    -1        3\n23       24           1         0         1              1     1        3\n24       25           1         1         2              1     1        3\n25       26           9        -4         1              5    -1        3\n26       27           1         2         3              1     1        3\n27       28           1        -1         0              1    -1        3\n28       29           7        -1         1              2    -1        3\n29       30           8         2         2              0     1        3\n30       31           1         1         2              1    -1        3\n31       32           2        -2         1              3     1        3\n32       33           1         0         0              0     1        3\n33       34           1         0         1              1    -1        3\n34       35           1         1         1              0     1        3\n35       36           1         2         2              0    -1        3\n36       37           1         0         1              1     1        3\n37       38           1        -2         1              3    -1        3"
     },
     "execution_count": 144,
     "metadata": {},
     "output_type": "execute_result"
    }
   ],
   "source": [
    "dataMatch = pd.read_csv(\"./2020_Problem_D_DATA/matches.csv\")\n",
    "dataMatch.rename(columns={'Outcome':'GoalDiff'}, inplace=True)\n",
    "dataMatch['OpponentID'] = dataMatch['OpponentID'].str.get(8).apply(int)\n",
    "dataMatch['GoalDiff'] = dataMatch['OwnScore'] - dataMatch['OpponentScore']\n",
    "dataMatch['Side'] = dataMatch['Side'].apply(lambda x:1 if x == \"home\" else -1)\n",
    "dataMatch['CoachID'] = dataMatch['CoachID'].str.get(5).apply(int)\n",
    "dataMatch"
   ]
  },
  {
   "cell_type": "code",
   "execution_count": 145,
   "metadata": {},
   "outputs": [],
   "source": [
    "dataColumns = ['Ratings', 'Total Shots', 'Possession%', 'Pass Success%', 'Passes', 'Dribbles', 'Aerials Won', 'Tackles', 'Corners', 'Dispossessed', 'Tackles Attempted', 'Interceptions', 'Clearances', 'Blocks', 'Offsides', 'Fouls', 'Touches', 'Loss of possession', 'Saves']\n",
    "dataColumnsDict = dict(zip(dataColumns, range(len(dataColumns))))\n",
    "dataColumnsVis  = [0 for i in range(len(dataColumns))]"
   ]
  },
  {
   "cell_type": "code",
   "execution_count": 146,
   "metadata": {},
   "outputs": [],
   "source": [
    "def extractLine(line):\n",
    "    words = line.strip().split()\n",
    "    if (len(words)==1 and words[0] in dataColumns):\n",
    "        return words[0]\n",
    "    elif (len(words)==2 and ((words[0]+' '+words[1]) in dataColumns)):\n",
    "        return (words[0]+' '+words[1])\n",
    "    elif (len(words)==3 and ((words[0]+' '+words[1]+' '+words[2]) in dataColumns)):\n",
    "        return (words[0]+' '+words[1]+' '+words[2])\n",
    "    return ''"
   ]
  },
  {
   "cell_type": "code",
   "execution_count": 147,
   "metadata": {},
   "outputs": [
    {
     "name": "stdout",
     "output_type": "stream",
     "text": "Ratings\n7.13   6.26\nTotal Shots\n15   14\nPossession%\n56.6   43.4\nTouches\n652  528\nPass Success%\n83   78\nDribbles\n17   11\nAerials Won\n22   14\nTackles\n11   10\nTackles Attempted\n22  27\nClearances\n20  21\nInterceptions\n7  17\nCorners\n6   6\nDispossessed\n4   4\n"
    }
   ],
   "source": [
    "f = open(\"./txt1.txt\")\n",
    "line = f.readline()\n",
    "while (line):\n",
    "    key = extractLine(line)\n",
    "    if (key!='' and dataColumnsVis[dataColumnsDict[key]] == 0):\n",
    "        dataColumnsVis[dataColumnsDict[key]] = 1\n",
    "        line = f.readline()\n",
    "        words = line.strip().split('-')\n",
    "        print (key,end='\\n')\n",
    "        print (words[0], words[1])\n",
    "    key = ''\n",
    "    line = f.readline()"
   ]
  },
  {
   "cell_type": "code",
   "execution_count": 148,
   "metadata": {},
   "outputs": [
    {
     "name": "stdout",
     "output_type": "stream",
     "text": "Passes\n479 365\nBlocks\n8 12\nOffsides\n4 1\nFouls\n10 13\nLoss of possession\n18 20\nSaves\n6 1\n"
    }
   ],
   "source": [
    "f = open(\"./txt1(1).txt\")\n",
    "line = f.readline()\n",
    "while (line):\n",
    "    key = extractLine(line)\n",
    "    if (key!='' and dataColumnsVis[dataColumnsDict[key]] == 0):\n",
    "        dataColumnsVis[dataColumnsDict[key]] = 1\n",
    "        line = f.readline()\n",
    "        words = line.strip().split('-')\n",
    "        print (key,end='\\n')\n",
    "        print (words[0], words[1])\n",
    "    key = ''\n",
    "    line = f.readline()"
   ]
  },
  {
   "cell_type": "code",
   "execution_count": 149,
   "metadata": {},
   "outputs": [
    {
     "data": {
      "text/plain": "[1, 1, 1, 1, 1, 1, 1, 1, 1, 1, 1, 1, 1, 1, 1, 1, 1, 1, 1]"
     },
     "execution_count": 149,
     "metadata": {},
     "output_type": "execute_result"
    }
   ],
   "source": [
    "dataColumnsVis"
   ]
  },
  {
   "cell_type": "code",
   "execution_count": 150,
   "metadata": {},
   "outputs": [],
   "source": [
    "\n",
    "\n",
    "\n",
    "\n",
    "\n",
    "\n",
    "\n",
    "\n",
    "\n",
    "\n",
    "\n",
    "\n",
    "\n",
    "\n",
    "\n",
    "\n",
    "\n",
    "\n",
    "\n",
    "\n",
    "\n",
    "\n",
    "\n",
    "\n",
    "\n",
    "\n"
   ]
  }
 ]
}