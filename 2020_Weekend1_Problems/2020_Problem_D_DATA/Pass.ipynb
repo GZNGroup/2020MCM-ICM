{
 "nbformat": 4,
 "nbformat_minor": 2,
 "metadata": {
  "language_info": {
   "name": "python",
   "codemirror_mode": {
    "name": "ipython",
    "version": 3
   },
   "version": "3.7.5-final"
  },
  "orig_nbformat": 2,
  "file_extension": ".py",
  "mimetype": "text/x-python",
  "name": "python",
  "npconvert_exporter": "python",
  "pygments_lexer": "ipython3",
  "version": 3,
  "kernelspec": {
   "name": "python37564bit2e4d7e2118444c66823957f010be2de2",
   "display_name": "Python 3.7.5 64-bit"
  }
 },
 "cells": [
  {
   "cell_type": "code",
   "execution_count": 2,
   "metadata": {},
   "outputs": [],
   "source": [
    "import pandas as pd\n",
    "import numpy as np\n",
    "from matplotlib import pyplot as plt\n",
    "import seaborn as sns\n",
    "%matplotlib inline"
   ]
  },
  {
   "cell_type": "markdown",
   "metadata": {},
   "source": [
    "PlayersDict={\n",
    "    \"Huskies_G1\":0,\n",
    "    \"Huskies_D1\":1,\n",
    "    \"Huskies_D2\":2,\n",
    "    \"Huskies_D3\":3,\n",
    "    \"Huskies_D4\":4,\n",
    "    \"Huskies_D5\":5,\n",
    "    \"Huskies_D6\":6,\n",
    "    \"Huskies_D7\":7,\n",
    "    \"Huskies_D8\":8,\n",
    "    \"Huskies_D9\":9,\n",
    "    \"Huskies_D10\":10,\n",
    "    \"Huskies_M1\":11,\n",
    "    \"Huskies_M2\":12,\n",
    "    \"Huskies_M3\":13,\n",
    "    \"Huskies_M4\":14,\n",
    "    \"Huskies_M5\":15,\n",
    "    \"Huskies_M6\":16,\n",
    "    \"Huskies_M7\":17,\n",
    "    \"Huskies_M8\":18,\n",
    "    \"Huskies_M9\":19,\n",
    "    \"Huskies_M10\":20,\n",
    "    \"Huskies_M11\":21,\n",
    "    \"Huskies_M12\":22,\n",
    "    \"Huskies_M13\":23,\n",
    "    \"Huskies_F1\":24,\n",
    "    \"Huskies_F2\":25,\n",
    "    \"Huskies_F3\":26,\n",
    "    \"Huskies_F4\":27,\n",
    "    \"Huskies_F5\":28,\n",
    "    \"Huskies_F6\":29\n",
    "}\n",
    "PlayersDictRev={v:k for k,v in PlayersDict.items()}\n",
    "PlayersDictShort={\n",
    "    \"G1\":0,\n",
    "    \"D1\":1,\n",
    "    \"D2\":2,\n",
    "    \"D3\":3,\n",
    "    \"D4\":4,\n",
    "    \"D5\":5,\n",
    "    \"D6\":6,\n",
    "    \"D7\":7,\n",
    "    \"D8\":8,\n",
    "    \"D9\":9,\n",
    "    \"D10\":10,\n",
    "    \"M1\":11,\n",
    "    \"M2\":12,\n",
    "    \"M3\":13,\n",
    "    \"M4\":14,\n",
    "    \"M5\":15,\n",
    "    \"M6\":16,\n",
    "    \"M7\":17,\n",
    "    \"M8\":18,\n",
    "    \"M9\":19,\n",
    "    \"M10\":20,\n",
    "    \"M11\":21,\n",
    "    \"M12\":22,\n",
    "    \"M13\":23,\n",
    "    \"F1\":24,\n",
    "    \"F2\":25,\n",
    "    \"F3\":26,\n",
    "    \"F4\":27,\n",
    "    \"F5\":28,\n",
    "    \"F6\":29\n",
    "}\n",
    "PlayersDictShortRev={v:k for k,v in PlayersDictShort.items()}"
   ]
  },
  {
   "cell_type": "code",
   "execution_count": null,
   "metadata": {},
   "outputs": [
    {
     "ename": "Error",
     "evalue": "'Kernelspec' module not installed in the selected interpreter ({0}).\n Please re-install or update 'jupyter'.",
     "output_type": "error",
     "traceback": [
      "Error: 'Kernelspec' module not installed in the selected interpreter ({0}).",
      "Please re-install or update 'jupyter'.",
      "at E.start (/home/zireael/.vscode-server/extensions/ms-python.python-2020.2.63072/out/client/extension.js:1:820169)",
      "at processTicksAndRejections (internal/process/task_queues.js:89:5)"
     ]
    }
   ],
   "source": [
    "PassTotal=[]\n",
    "for _ in range(30):\n",
    "    PassTotal.append([0]*30)\n",
    "Pass=[]\n",
    "for _ in range(38):\n",
    "    temp=[]\n",
    "    for _ in range(30):\n",
    "        temp.append([0]*30)\n",
    "    Pass.append(temp)"
   ]
  },
  {
   "cell_type": "code",
   "execution_count": 4,
   "metadata": {},
   "outputs": [
    {
     "data": {
      "text/plain": "'#print(count)\\ntemp=pd.DataFrame(PassTotal).rename(columns=PlayersDictShortRev,index=PlayersDictShortRev).replace(0,np.nan)\\n#temp.to_csv(\"./Pass/Total.csv\")\\nf, ax = plt.subplots(figsize=(30, 30))\\nax = sns.heatmap(temp,cmap=\"Reds\",square=True,annot=True,fmt=\\'.2f\\')\\nplt.savefig(\"./Pass/Total.png\")\\nplt.show()'"
     },
     "execution_count": 4,
     "metadata": {},
     "output_type": "execute_result"
    }
   ],
   "source": [
    "PassTotal=[]\n",
    "for _ in range(30):\n",
    "    PassTotal.append([0]*30)\n",
    "Pass=[]\n",
    "for _ in range(38):\n",
    "    temp=[]\n",
    "    for _ in range(30):\n",
    "        temp.append([0]*30)\n",
    "    Pass.append(temp)\n",
    "\n",
    "data=pd.read_csv(\"passingevents.csv\")\n",
    "\"\"\"print(data[\"EventOrigin_x\"].max(),data[\"EventOrigin_x\"].min()) #100\n",
    "print(data[\"EventOrigin_y\"].max(),data[\"EventOrigin_y\"].min())\n",
    "print(data[\"EventDestination_x\"].max(),data[\"EventDestination_x\"].min())\n",
    "print(data[\"EventDestination_y\"].max(),data[\"EventDestination_y\"].min())\"\"\"\n",
    "N=data.shape[0]\n",
    "#count=0\n",
    "\n",
    "\"\"\"print(data['EventDestination_x'][0])\n",
    "print(type(data['EventDestination_x'][0]))\n",
    "print(data['EventOrigin_x'][0])\n",
    "print(type(data['EventOrigin_x'][0]))\n",
    "\"\"\"\n",
    "\n",
    "ValueDict = {\"Cross\":1.5, \"Hand pass\":0.6, \"Head pass\":1.1, \"High pass\":0.9, \"Launch\":0.5, \"Simple pass\":1.0, \"Smart pass\":2.0}\n",
    "\n",
    "def GoalDistance(x):\n",
    "    x1 = data['EventOrigin_x'][x]\n",
    "    x2 = data['EventDestination_x'][x]\n",
    "    return ((1-(0.5 * np.tan(11.0/6.0 * ((100-x1)/100.0 - 0.6))))*0.3 + (1-(0.5 * np.tan(11.0/6.0 * ((100-x2)/100.0 - 0.6))))*0.7)\n",
    "    #return (1-(0.5 * np.tan(11.0/6.0 * ((100-x2)/100.0 - 0.6))))\n",
    "def EvaluatePass(x):\n",
    "    a=ValueDict[data['EventSubType'][x]]\n",
    "    b=GoalDistance(x)\n",
    "    c=a*b\n",
    "    #print(x,data['EventSubType'][x],data[\"OriginPlayerID\"][x],data[\"DestinationPlayerID\"][x],data['EventOrigin_x'][x],data['EventDestination_x'][x],a,b,c)\n",
    "    return c\n",
    "\n",
    "\n",
    "\n",
    "for i in range(N):\n",
    "    if data[\"TeamID\"][i]==\"Huskies\":\n",
    "        OP=data[\"OriginPlayerID\"][i]\n",
    "        DP=data[\"DestinationPlayerID\"][i]\n",
    "        \"\"\"if OP==DP:\n",
    "            print(data[i:i+1])\n",
    "            count+=1\"\"\"\n",
    "        #PassTotal[PlayersDict[OP]][PlayersDict[DP]]+=1\n",
    "        #Pass[data[\"MatchID\"][i]-1][PlayersDict[OP]][PlayersDict[DP]]+=1\n",
    "        PassValue = EvaluatePass(i)\n",
    "        PassTotal[PlayersDict[OP]][PlayersDict[DP]] += PassValue\n",
    "        Pass[data[\"MatchID\"][i]-1][PlayersDict[OP]][PlayersDict[DP]] += PassValue\n",
    "\n",
    "\n",
    "\n",
    "\n",
    "\n",
    "for i in range(30):\n",
    "    for j in range(30):\n",
    "        PassTotal[i][j]=float('%.1f' %PassTotal[i][j])\n",
    "\n",
    "for k in range(38):\n",
    "    for i in range(30):\n",
    "        for j in range(30):\n",
    "            Pass[k][i][j]=float('%.1f' %Pass[k][i][j])\n",
    "\n",
    "\n",
    "\n",
    "\"\"\"#print(count)\n",
    "temp=pd.DataFrame(PassTotal).rename(columns=PlayersDictShortRev,index=PlayersDictShortRev).replace(0,np.nan)\n",
    "#temp.to_csv(\"./Pass/Total.csv\")\n",
    "f, ax = plt.subplots(figsize=(30, 30))\n",
    "ax = sns.heatmap(temp,cmap=\"Reds\",square=True,annot=True,fmt='.2f')\n",
    "plt.savefig(\"./Pass/Total.png\")\n",
    "plt.show()\"\"\"\n",
    "\n",
    "\n"
   ]
  },
  {
   "cell_type": "code",
   "execution_count": 13,
   "metadata": {},
   "outputs": [
    {
     "name": "stdout",
     "output_type": "stream",
     "text": "[('G1', 38), ('M1', 33), ('M4', 33), ('F1', 32), ('F2', 31), ('D1', 30), ('M3', 30), ('M6', 27), ('D3', 24), ('D2', 23), ('D4', 22), ('D5', 21), ('D7', 19), ('F4', 19), ('D6', 15), ('M12', 15), ('M8', 14), ('F5', 14), ('F6', 14), ('M9', 12), ('D8', 12), ('M11', 8), ('M2', 7), ('F3', 7), ('M10', 7), ('M5', 5), ('M13', 4), ('D10', 4), ('D9', 2), ('M7', 1)]\n"
    }
   ],
   "source": [
    "#print(pd.DataFrame(PassTotal))\n",
    "#print(pd.DataFrame(Pass[0]))\n",
    "PlayTime={}\n",
    "for i in range(38):\n",
    "    temp=pd.DataFrame(Pass[i])\n",
    "    temp=temp.rename(columns=PlayersDictShortRev,index=PlayersDictShortRev)\n",
    "    #temp[temp == 0] = np.nan\n",
    "    temp=temp.replace(0,np.nan)\n",
    "    temp=temp.dropna(axis=0, how='all', thresh=None, subset=None, inplace=False)\n",
    "    temp=temp.dropna(axis=1, how='all', thresh=None, subset=None, inplace=False)\n",
    "    N=temp.shape[0]\n",
    "    for j in range(N):\n",
    "        Player=temp.index[j]\n",
    "        if Player in PlayTime:\n",
    "            PlayTime[Player]+=1\n",
    "        else:\n",
    "            PlayTime[Player]=1\n",
    "    #print(temp)\n",
    "    #temp=temp.fillna(value=0,axis=0)\n",
    "    #temp=temp.fillna(value=0,axis=1)\n",
    "    \"\"\"for j in range(30):\n",
    "        temp=temp[temp[j]!=0]\"\"\"\n",
    "    #temp=temp.loc[:, (temp != 0).any(axis=0)]\n",
    "    #temp=pd.DataFrame(np.array(temp).astype(\"int64\"))\n",
    "    #temp=temp.rename(columns=PlayersDictShortRev,index=PlayersDictShortRev)\n",
    "    #temp.to_csv(\"./Pass/Match\"+str(i+1)+\".csv\")\n",
    "print(sorted(PlayTime.items(),key=lambda x:x[1],reverse=True))"
   ]
  },
  {
   "cell_type": "code",
   "execution_count": 57,
   "metadata": {},
   "outputs": [
    {
     "name": "stdout",
     "output_type": "stream",
     "text": "[[342.4, 'M1', 'F2'], [338.6, 'M1', 'M3'], [213.4, 'D5', 'F2'], [196.0, 'D1', 'D3'], [179.8, 'D1', 'M1'], [172.0, 'D5', 'M1'], [164.8, 'D4', 'M3'], [161.8, 'D4', 'M1'], [161.8, 'M1', 'M4'], [161.4, 'D5', 'M6']] \n\n[[816.1, 'M1', 'M3', 'F2'], [727.8, 'D5', 'M1', 'F2'], [665.2, 'D4', 'M1', 'M3'], [663.3, 'D5', 'M1', 'M3'], [661.4, 'D4', 'M1', 'F2'], [641.3000000000001, 'D1', 'M1', 'M3'], [636.5, 'M1', 'M6', 'F2'], [632.1, 'D1', 'M1', 'F2'], [624.9, 'M1', 'M4', 'F2'], [576.6, 'M1', 'M3', 'M6']] \n\n[[1354.2, 'D5', 'M1', 'M3', 'F2'], [1299.9000000000003, 'D4', 'M1', 'M3', 'F2'], [1228.7000000000003, 'D1', 'M1', 'M3', 'F2'], [1192.4, 'M1', 'M3', 'M6', 'F2'], [1183.3, 'D5', 'M1', 'M6', 'F2'], [1159.7, 'M1', 'M3', 'M4', 'F2'], [1144.8999999999999, 'D3', 'M1', 'M3', 'F2'], [1113.5, 'D1', 'D5', 'M1', 'F2'], [1106.7, 'D2', 'M1', 'M3', 'F2'], [1099.5, 'D1', 'D4', 'M1', 'M3']] \n\n"
    }
   ],
   "source": [
    "doub=[]\n",
    "trip=[]\n",
    "quad=[]\n",
    "for i in range(30):\n",
    "    iname=PlayersDictRev[i]\n",
    "    index=iname.find(\"_\")\n",
    "    iname=iname[index+1:]\n",
    "    for j in range(i+1,30):\n",
    "        jname=PlayersDictRev[j]\n",
    "        index=jname.find(\"_\")\n",
    "        jname=jname[index+1:]\n",
    "        sum=PassTotal[i][j]+PassTotal[j][i]\n",
    "        doub.append([sum,iname,jname])\n",
    "        for k in range(j+1,30):\n",
    "            kname=PlayersDictRev[k]\n",
    "            index=kname.find(\"_\")\n",
    "            kname=kname[index+1:]\n",
    "            sum=PassTotal[i][j]+PassTotal[j][i]+PassTotal[i][k]+PassTotal[k][i]+PassTotal[k][j]+PassTotal[j][k]\n",
    "            trip.append([sum,iname,jname,kname])\n",
    "            for l in range(k+1,30):\n",
    "                lname=PlayersDictRev[l]\n",
    "                index=lname.find(\"_\")\n",
    "                lname=lname[index+1:]\n",
    "                sum=PassTotal[i][j]+PassTotal[j][i]+PassTotal[i][k]+PassTotal[k][i]+PassTotal[k][j]+PassTotal[j][k]+PassTotal[i][l]+PassTotal[l][i]+PassTotal[j][l]+PassTotal[l][j]+PassTotal[k][l]+PassTotal[l][k]\n",
    "                quad.append([sum,iname,jname,kname,lname])\n",
    "\n",
    "doub.sort(key=lambda x:x[0],reverse=True)\n",
    "trip.sort(key=lambda x:x[0],reverse=True)\n",
    "quad.sort(key=lambda x:x[0],reverse=True)\n",
    "print(doub[:10],\"\\n\")\n",
    "print(trip[:10],\"\\n\")\n",
    "print(quad[:10],\"\\n\")"
   ]
  },
  {
   "cell_type": "code",
   "execution_count": null,
   "metadata": {},
   "outputs": [
    {
     "ename": "Error",
     "evalue": "'Kernelspec' module not installed in the selected interpreter ({0}).\n Please re-install or update 'jupyter'.",
     "output_type": "error",
     "traceback": [
      "Error: 'Kernelspec' module not installed in the selected interpreter ({0}).",
      "Please re-install or update 'jupyter'.",
      "at E.start (/home/zireael/.vscode-server/extensions/ms-python.python-2020.2.63072/out/client/extension.js:1:820169)",
      "at processTicksAndRejections (internal/process/task_queues.js:89:5)"
     ]
    }
   ],
   "source": [
    "# -*- coding: utf-8 -*-\n",
    "\n",
    "#All Players\n",
    "data=pd.read_csv(\"passingevents.csv\")\n",
    "N=data.shape[0]\n",
    "xy=[]\n",
    "for i in range(N):\n",
    "    if data[\"TeamID\"][i]==\"Huskies\":\n",
    "        x=data[\"EventOrigin_x\"][i]*1.05\n",
    "        y=data[\"EventOrigin_y\"][i]*0.68\n",
    "        xy.append((x,y))\n",
    "        x=data[\"EventDestination_x\"][i]*1.05\n",
    "        y=data[\"EventDestination_y\"][i]*0.68\n",
    "        xy.append((x,y))\n",
    "\n",
    "df = pd.DataFrame(xy, columns=[\"x(0m - 105m)\\n————————>\\nAttack Direction\", \"y(0m - 68m)\"])\n",
    "g=sns.jointplot(x=\"x(0m - 105m)\\n————————>\\nAttack Direction\", y=\"y(0m - 68m)\", data=df, kind=\"kde\",xlim=(-20,120),ylim=(-20,90))\n",
    "g.fig.set_figwidth(10.5)\n",
    "g.fig.set_figheight(6.8)\n",
    "g.fig.suptitle(\"Total HeatMap\",fontsize=20)\n",
    "g.savefig(\"./HeatMap/Origin/Total HeatMap.png\", dpi=300)\n",
    "\n",
    "\n",
    "\n",
    "#Single Player\n",
    "data=pd.read_csv(\"passingevents.csv\")\n",
    "N=data.shape[0]\n",
    "for j in range(30):\n",
    "    xy=[]\n",
    "    for i in range(N):\n",
    "        if data[\"TeamID\"][i]==\"Huskies\" and data[\"OriginPlayerID\"][i]==PlayersDictRev[j]:\n",
    "            x=data[\"EventOrigin_x\"][i]*1.05\n",
    "            y=data[\"EventOrigin_y\"][i]*0.68\n",
    "            xy.append((x,y))\n",
    "            x=data[\"EventDestination_x\"][i]*1.05\n",
    "            y=data[\"EventDestination_y\"][i]*0.68\n",
    "            xy.append((x,y))\n",
    "\n",
    "    df = pd.DataFrame(xy, columns=[\"x(0m - 105m)\\n————————>\\nAttack Direction\", \"y(0m - 68m)\"])\n",
    "    g=sns.jointplot(x=\"x(0m - 105m)\\n————————>\\nAttack Direction\", y=\"y(0m - 68m)\", data=df, kind=\"kde\",xlim=(-20,120),ylim=(-20,90))\n",
    "    g.fig.set_figwidth(10.5)\n",
    "    g.fig.set_figheight(6.8)\n",
    "    g.fig.suptitle(PlayersDictShortRev[j]+\"'s HeatMap\",fontsize=20)\n",
    "    g.savefig(\"./HeatMap/Origin/\"+PlayersDictShortRev[j]+\"'s HeatMap.png\", dpi=300)\n",
    "\n",
    "\n",
    "\"\"\"f, ax = plt.subplots(figsize=(6, 6))\n",
    "cmap = sns.cubehelix_palette(as_cmap=True, dark=0, light=1, reverse=True)\n",
    "sns.kdeplot(df.x, df.y, cmap=cmap, n_levels=60, shade=True)\"\"\""
   ]
  },
  {
   "cell_type": "code",
   "execution_count": null,
   "metadata": {},
   "outputs": [
    {
     "ename": "Error",
     "evalue": "'Kernelspec' module not installed in the selected interpreter ({0}).\n Please re-install or update 'jupyter'.",
     "output_type": "error",
     "traceback": [
      "Error: 'Kernelspec' module not installed in the selected interpreter ({0}).",
      "Please re-install or update 'jupyter'.",
      "at E.start (/home/zireael/.vscode-server/extensions/ms-python.python-2020.2.63072/out/client/extension.js:1:820169)",
      "at processTicksAndRejections (internal/process/task_queues.js:89:5)"
     ]
    }
   ],
   "source": [
    "import numpy as np\n",
    "import matplotlib.pyplot as plt \n",
    "\n",
    "points = np.arange(-5,5,0.01)\n",
    "\n",
    "x,y = np.meshgrid(points,points)\n",
    "z = np.sqrt(x**2 + y**2)\n",
    "cmaps = [plt.cm.jet, plt.cm.gray, plt.cm.cool, plt.cm.hot]\n",
    "\n",
    "fig, axes = plt.subplots(2, 2)\n",
    "\n",
    "for i, ax in enumerate(axes.ravel()):\n",
    "    ax.imshow(z,cmap=cmaps[i])\n",
    "\n",
    "plt.show()"
   ]
  },
  {
   "cell_type": "code",
   "execution_count": null,
   "metadata": {},
   "outputs": [
    {
     "ename": "Error",
     "evalue": "'Kernelspec' module not installed in the selected interpreter ({0}).\n Please re-install or update 'jupyter'.",
     "output_type": "error",
     "traceback": [
      "Error: 'Kernelspec' module not installed in the selected interpreter ({0}).",
      "Please re-install or update 'jupyter'.",
      "at E.start (/home/zireael/.vscode-server/extensions/ms-python.python-2020.2.63072/out/client/extension.js:1:820169)",
      "at processTicksAndRejections (internal/process/task_queues.js:89:5)"
     ]
    }
   ],
   "source": [
    "from pyheatmap.heatmap import HeatMap\n",
    "import numpy as np\n",
    "\n",
    "data=pd.read_csv(\"passingevents.csv\")\n",
    "N=data.shape[0]\n",
    "xy=[]\n",
    "for i in range(N):\n",
    "    if data[\"TeamID\"][i]==\"Huskies\":\n",
    "        x=data[\"EventOrigin_x\"][i]*2\n",
    "        y=data[\"EventOrigin_y\"][i]\n",
    "        xy.append([x,y,1])\n",
    "heat = HeatMap(xy)\n",
    "heat.heatmap(save_as=\"2.png\")"
   ]
  },
  {
   "cell_type": "code",
   "execution_count": null,
   "metadata": {},
   "outputs": [
    {
     "ename": "Error",
     "evalue": "'Kernelspec' module not installed in the selected interpreter ({0}).\n Please re-install or update 'jupyter'.",
     "output_type": "error",
     "traceback": [
      "Error: 'Kernelspec' module not installed in the selected interpreter ({0}).",
      "Please re-install or update 'jupyter'.",
      "at E.start (/home/zireael/.vscode-server/extensions/ms-python.python-2020.2.63072/out/client/extension.js:1:820169)",
      "at processTicksAndRejections (internal/process/task_queues.js:89:5)"
     ]
    }
   ],
   "source": [
    "# -*- coding: utf-8 -*-\n",
    "\n",
    "from PIL import Image\n",
    "foreground = Image.open(\"./HeatMap/lines.png\")\n",
    "for i in range(30):\n",
    "    background = Image.open(\"./HeatMap/Origin/\"+PlayersDictShortRev[i]+\"'s HeatMap.png\")\n",
    "    background.paste(foreground, (525, 607), foreground)\n",
    "    background.save(\"./HeatMap/\"+PlayersDictShortRev[i]+\"'s HeatMap.png\")\n",
    "background = Image.open(\"./HeatMap/Origin/Total HeatMap.png\")\n",
    "background.paste(foreground, (525, 607), foreground)\n",
    "background.save(\"./HeatMap/Total.png\")"
   ]
  },
  {
   "cell_type": "code",
   "execution_count": 66,
   "metadata": {},
   "outputs": [
    {
     "name": "stdout",
     "output_type": "stream",
     "text": "0\nSmart   2.0\nCross   1.5\nHead    1.1\nSimple  1.0\nHigh    0.9\nHand    0.6\nLaunch  0.5\n"
    },
    {
     "ename": "TypeError",
     "evalue": "ufunc 'isfinite' not supported for the input types, and the inputs could not be safely coerced to any supported types according to the casting rule ''safe''",
     "output_type": "error",
     "traceback": [
      "\u001b[0;31m---------------------------------------------------------------------------\u001b[0m",
      "\u001b[0;31mTypeError\u001b[0m                                 Traceback (most recent call last)",
      "\u001b[0;32m<ipython-input-66-8223babebc8d>\u001b[0m in \u001b[0;36m<module>\u001b[0;34m\u001b[0m\n\u001b[1;32m      2\u001b[0m \u001b[0mtemp\u001b[0m\u001b[0;34m=\u001b[0m\u001b[0mpd\u001b[0m\u001b[0;34m.\u001b[0m\u001b[0mDataFrame\u001b[0m\u001b[0;34m.\u001b[0m\u001b[0mfrom_dict\u001b[0m\u001b[0;34m(\u001b[0m\u001b[0mValueDict\u001b[0m\u001b[0;34m,\u001b[0m\u001b[0morient\u001b[0m\u001b[0;34m=\u001b[0m\u001b[0;34m\"index\"\u001b[0m\u001b[0;34m)\u001b[0m\u001b[0;34m\u001b[0m\u001b[0;34m\u001b[0m\u001b[0m\n\u001b[1;32m      3\u001b[0m \u001b[0mprint\u001b[0m\u001b[0;34m(\u001b[0m\u001b[0mtemp\u001b[0m\u001b[0;34m)\u001b[0m\u001b[0;34m\u001b[0m\u001b[0;34m\u001b[0m\u001b[0m\n\u001b[0;32m----> 4\u001b[0;31m \u001b[0msns\u001b[0m\u001b[0;34m.\u001b[0m\u001b[0mpalplot\u001b[0m\u001b[0;34m(\u001b[0m\u001b[0mtemp\u001b[0m\u001b[0;34m,\u001b[0m\u001b[0msns\u001b[0m\u001b[0;34m.\u001b[0m\u001b[0mlight_palette\u001b[0m\u001b[0;34m(\u001b[0m\u001b[0;34m\"seagreen\"\u001b[0m\u001b[0;34m,\u001b[0m\u001b[0mreverse\u001b[0m\u001b[0;34m=\u001b[0m\u001b[0;32mTrue\u001b[0m\u001b[0;34m)\u001b[0m\u001b[0;34m)\u001b[0m\u001b[0;34m\u001b[0m\u001b[0;34m\u001b[0m\u001b[0m\n\u001b[0m",
      "\u001b[0;32m~/.local/lib/python3.7/site-packages/seaborn/miscplot.py\u001b[0m in \u001b[0;36mpalplot\u001b[0;34m(pal, size)\u001b[0m\n\u001b[1;32m     20\u001b[0m     \"\"\"\n\u001b[1;32m     21\u001b[0m     \u001b[0mn\u001b[0m \u001b[0;34m=\u001b[0m \u001b[0mlen\u001b[0m\u001b[0;34m(\u001b[0m\u001b[0mpal\u001b[0m\u001b[0;34m)\u001b[0m\u001b[0;34m\u001b[0m\u001b[0;34m\u001b[0m\u001b[0m\n\u001b[0;32m---> 22\u001b[0;31m     \u001b[0mf\u001b[0m\u001b[0;34m,\u001b[0m \u001b[0max\u001b[0m \u001b[0;34m=\u001b[0m \u001b[0mplt\u001b[0m\u001b[0;34m.\u001b[0m\u001b[0msubplots\u001b[0m\u001b[0;34m(\u001b[0m\u001b[0;36m1\u001b[0m\u001b[0;34m,\u001b[0m \u001b[0;36m1\u001b[0m\u001b[0;34m,\u001b[0m \u001b[0mfigsize\u001b[0m\u001b[0;34m=\u001b[0m\u001b[0;34m(\u001b[0m\u001b[0mn\u001b[0m \u001b[0;34m*\u001b[0m \u001b[0msize\u001b[0m\u001b[0;34m,\u001b[0m \u001b[0msize\u001b[0m\u001b[0;34m)\u001b[0m\u001b[0;34m)\u001b[0m\u001b[0;34m\u001b[0m\u001b[0;34m\u001b[0m\u001b[0m\n\u001b[0m\u001b[1;32m     23\u001b[0m     ax.imshow(np.arange(n).reshape(1, n),\n\u001b[1;32m     24\u001b[0m               \u001b[0mcmap\u001b[0m\u001b[0;34m=\u001b[0m\u001b[0mmpl\u001b[0m\u001b[0;34m.\u001b[0m\u001b[0mcolors\u001b[0m\u001b[0;34m.\u001b[0m\u001b[0mListedColormap\u001b[0m\u001b[0;34m(\u001b[0m\u001b[0mlist\u001b[0m\u001b[0;34m(\u001b[0m\u001b[0mpal\u001b[0m\u001b[0;34m)\u001b[0m\u001b[0;34m)\u001b[0m\u001b[0;34m,\u001b[0m\u001b[0;34m\u001b[0m\u001b[0;34m\u001b[0m\u001b[0m\n",
      "\u001b[0;32m~/.local/lib/python3.7/site-packages/matplotlib/pyplot.py\u001b[0m in \u001b[0;36msubplots\u001b[0;34m(nrows, ncols, sharex, sharey, squeeze, subplot_kw, gridspec_kw, **fig_kw)\u001b[0m\n\u001b[1;32m   1200\u001b[0m \u001b[0;34m\u001b[0m\u001b[0m\n\u001b[1;32m   1201\u001b[0m     \"\"\"\n\u001b[0;32m-> 1202\u001b[0;31m     \u001b[0mfig\u001b[0m \u001b[0;34m=\u001b[0m \u001b[0mfigure\u001b[0m\u001b[0;34m(\u001b[0m\u001b[0;34m**\u001b[0m\u001b[0mfig_kw\u001b[0m\u001b[0;34m)\u001b[0m\u001b[0;34m\u001b[0m\u001b[0;34m\u001b[0m\u001b[0m\n\u001b[0m\u001b[1;32m   1203\u001b[0m     axs = fig.subplots(nrows=nrows, ncols=ncols, sharex=sharex, sharey=sharey,\n\u001b[1;32m   1204\u001b[0m                        \u001b[0msqueeze\u001b[0m\u001b[0;34m=\u001b[0m\u001b[0msqueeze\u001b[0m\u001b[0;34m,\u001b[0m \u001b[0msubplot_kw\u001b[0m\u001b[0;34m=\u001b[0m\u001b[0msubplot_kw\u001b[0m\u001b[0;34m,\u001b[0m\u001b[0;34m\u001b[0m\u001b[0;34m\u001b[0m\u001b[0m\n",
      "\u001b[0;32m~/.local/lib/python3.7/site-packages/matplotlib/pyplot.py\u001b[0m in \u001b[0;36mfigure\u001b[0;34m(num, figsize, dpi, facecolor, edgecolor, frameon, FigureClass, clear, **kwargs)\u001b[0m\n\u001b[1;32m    543\u001b[0m                                         \u001b[0mframeon\u001b[0m\u001b[0;34m=\u001b[0m\u001b[0mframeon\u001b[0m\u001b[0;34m,\u001b[0m\u001b[0;34m\u001b[0m\u001b[0;34m\u001b[0m\u001b[0m\n\u001b[1;32m    544\u001b[0m                                         \u001b[0mFigureClass\u001b[0m\u001b[0;34m=\u001b[0m\u001b[0mFigureClass\u001b[0m\u001b[0;34m,\u001b[0m\u001b[0;34m\u001b[0m\u001b[0;34m\u001b[0m\u001b[0m\n\u001b[0;32m--> 545\u001b[0;31m                                         **kwargs)\n\u001b[0m\u001b[1;32m    546\u001b[0m \u001b[0;34m\u001b[0m\u001b[0m\n\u001b[1;32m    547\u001b[0m         \u001b[0;32mif\u001b[0m \u001b[0mfigLabel\u001b[0m\u001b[0;34m:\u001b[0m\u001b[0;34m\u001b[0m\u001b[0;34m\u001b[0m\u001b[0m\n",
      "\u001b[0;32m~/.local/lib/python3.7/site-packages/matplotlib/backend_bases.py\u001b[0m in \u001b[0;36mnew_figure_manager\u001b[0;34m(cls, num, *args, **kwargs)\u001b[0m\n\u001b[1;32m   3256\u001b[0m         \u001b[0;32mfrom\u001b[0m \u001b[0mmatplotlib\u001b[0m\u001b[0;34m.\u001b[0m\u001b[0mfigure\u001b[0m \u001b[0;32mimport\u001b[0m \u001b[0mFigure\u001b[0m\u001b[0;34m\u001b[0m\u001b[0;34m\u001b[0m\u001b[0m\n\u001b[1;32m   3257\u001b[0m         \u001b[0mfig_cls\u001b[0m \u001b[0;34m=\u001b[0m \u001b[0mkwargs\u001b[0m\u001b[0;34m.\u001b[0m\u001b[0mpop\u001b[0m\u001b[0;34m(\u001b[0m\u001b[0;34m'FigureClass'\u001b[0m\u001b[0;34m,\u001b[0m \u001b[0mFigure\u001b[0m\u001b[0;34m)\u001b[0m\u001b[0;34m\u001b[0m\u001b[0;34m\u001b[0m\u001b[0m\n\u001b[0;32m-> 3258\u001b[0;31m         \u001b[0mfig\u001b[0m \u001b[0;34m=\u001b[0m \u001b[0mfig_cls\u001b[0m\u001b[0;34m(\u001b[0m\u001b[0;34m*\u001b[0m\u001b[0margs\u001b[0m\u001b[0;34m,\u001b[0m \u001b[0;34m**\u001b[0m\u001b[0mkwargs\u001b[0m\u001b[0;34m)\u001b[0m\u001b[0;34m\u001b[0m\u001b[0;34m\u001b[0m\u001b[0m\n\u001b[0m\u001b[1;32m   3259\u001b[0m         \u001b[0;32mreturn\u001b[0m \u001b[0mcls\u001b[0m\u001b[0;34m.\u001b[0m\u001b[0mnew_figure_manager_given_figure\u001b[0m\u001b[0;34m(\u001b[0m\u001b[0mnum\u001b[0m\u001b[0;34m,\u001b[0m \u001b[0mfig\u001b[0m\u001b[0;34m)\u001b[0m\u001b[0;34m\u001b[0m\u001b[0;34m\u001b[0m\u001b[0m\n\u001b[1;32m   3260\u001b[0m \u001b[0;34m\u001b[0m\u001b[0m\n",
      "\u001b[0;32m~/.local/lib/python3.7/site-packages/matplotlib/figure.py\u001b[0m in \u001b[0;36m__init__\u001b[0;34m(self, figsize, dpi, facecolor, edgecolor, linewidth, frameon, subplotpars, tight_layout, constrained_layout)\u001b[0m\n\u001b[1;32m    346\u001b[0m             \u001b[0mframeon\u001b[0m \u001b[0;34m=\u001b[0m \u001b[0mrcParams\u001b[0m\u001b[0;34m[\u001b[0m\u001b[0;34m'figure.frameon'\u001b[0m\u001b[0;34m]\u001b[0m\u001b[0;34m\u001b[0m\u001b[0;34m\u001b[0m\u001b[0m\n\u001b[1;32m    347\u001b[0m \u001b[0;34m\u001b[0m\u001b[0m\n\u001b[0;32m--> 348\u001b[0;31m         \u001b[0;32mif\u001b[0m \u001b[0;32mnot\u001b[0m \u001b[0mnp\u001b[0m\u001b[0;34m.\u001b[0m\u001b[0misfinite\u001b[0m\u001b[0;34m(\u001b[0m\u001b[0mfigsize\u001b[0m\u001b[0;34m)\u001b[0m\u001b[0;34m.\u001b[0m\u001b[0mall\u001b[0m\u001b[0;34m(\u001b[0m\u001b[0;34m)\u001b[0m\u001b[0;34m:\u001b[0m\u001b[0;34m\u001b[0m\u001b[0;34m\u001b[0m\u001b[0m\n\u001b[0m\u001b[1;32m    349\u001b[0m             raise ValueError('figure size must be finite not '\n\u001b[1;32m    350\u001b[0m                              '{}'.format(figsize))\n",
      "\u001b[0;31mTypeError\u001b[0m: ufunc 'isfinite' not supported for the input types, and the inputs could not be safely coerced to any supported types according to the casting rule ''safe''"
     ]
    }
   ],
   "source": [
    "ValueDict = {\"Smart\":2.0,\"Cross\":1.5, \"Head\":1.1, \"Simple\":1.0, \"High\":0.9, \"Hand\":0.6, \"Launch\":0.5 }\n",
    "temp=pd.DataFrame.from_dict(ValueDict,orient=\"index\")\n",
    "print(temp)\n",
    "sns.palplot(sns.light_palette(\"seagreen\",reverse=True))"
   ]
  },
  {
   "cell_type": "code",
   "execution_count": 81,
   "metadata": {},
   "outputs": [
    {
     "name": "stdout",
     "output_type": "stream",
     "text": "Smart  Cross  Head  Simple  High  Hand  Launch\n    2.0    1.5   1.1     1.0   0.9   0.6     0.5\n"
    },
    {
     "data": {
      "image/png": "[encoded data removed]",
      "image/svg+xml": "<?xml version=\"1.0\" encoding=\"utf-8\" standalone=\"no\"?>\n<!DOCTYPE svg PUBLIC \"-//W3C//DTD SVG 1.1//EN\"\n  \"http://www.w3.org/Graphics/SVG/1.1/DTD/svg11.dtd\">\n<!-- Created with matplotlib (https://matplotlib.org/) -->\n<svg height=\"78.906696pt\" version=\"1.1\" viewBox=\"0 0 349.2 78.906696\" width=\"349.2pt\" xmlns=\"http://www.w3.org/2000/svg\" xmlns:xlink=\"http://www.w3.org/1999/xlink\">\n <defs>\n  <style type=\"text/css\">\n*{stroke-linecap:butt;stroke-linejoin:round;}\n  </style>\n </defs>\n <g id=\"figure_1\">\n  <g id=\"patch_1\">\n   <path d=\"M 0 78.906696 \nL 349.2 78.906696 \nL 349.2 0 \nL 0 0 \nz\n\" style=\"fill:none;\"/>\n  </g>\n  <g id=\"axes_1\">\n   <g id=\"patch_2\">\n    <path d=\"M 7.2 55.028571 \nL 342 55.028571 \nL 342 7.2 \nL 7.2 7.2 \nz\n\" style=\"fill:#ffffff;\"/>\n   </g>\n   <g id=\"QuadMesh_1\">\n    <path clip-path=\"url(#pd778f7e30a)\" d=\"M 7.2 7.2 \nL 55.028571 7.2 \nL 55.028571 55.028571 \nL 7.2 55.028571 \nL 7.2 7.2 \n\" style=\"fill:#2e8b57;\"/>\n    <path clip-path=\"url(#pd778f7e30a)\" d=\"M 55.028571 7.2 \nL 102.857143 7.2 \nL 102.857143 55.028571 \nL 55.028571 55.028571 \nL 55.028571 7.2 \n\" style=\"fill:#54a176;\"/>\n    <path clip-path=\"url(#pd778f7e30a)\" d=\"M 102.857143 7.2 \nL 150.685714 7.2 \nL 150.685714 55.028571 \nL 102.857143 55.028571 \nL 102.857143 7.2 \n\" style=\"fill:#a0cdb4;\"/>\n    <path clip-path=\"url(#pd778f7e30a)\" d=\"M 150.685714 7.2 \nL 198.514286 7.2 \nL 198.514286 55.028571 \nL 150.685714 55.028571 \nL 150.685714 7.2 \n\" style=\"fill:#a0cdb4;\"/>\n    <path clip-path=\"url(#pd778f7e30a)\" d=\"M 198.514286 7.2 \nL 246.342857 7.2 \nL 246.342857 55.028571 \nL 198.514286 55.028571 \nL 198.514286 7.2 \n\" style=\"fill:#c6e3d3;\"/>\n    <path clip-path=\"url(#pd778f7e30a)\" d=\"M 246.342857 7.2 \nL 294.171429 7.2 \nL 294.171429 55.028571 \nL 246.342857 55.028571 \nL 246.342857 7.2 \n\" style=\"fill:#ecf9f1;\"/>\n    <path clip-path=\"url(#pd778f7e30a)\" d=\"M 294.171429 7.2 \nL 342 7.2 \nL 342 55.028571 \nL 294.171429 55.028571 \nL 294.171429 7.2 \n\" style=\"fill:#ecf9f1;\"/>\n   </g>\n   <g id=\"matplotlib.axis_1\">\n    <g id=\"xtick_1\">\n     <g id=\"line2d_1\">\n      <defs>\n       <path d=\"M 0 0 \nL 0 3.5 \n\" id=\"mdc0964358e\" style=\"stroke:#000000;stroke-width:0.8;\"/>\n      </defs>\n      <g>\n       <use style=\"stroke:#000000;stroke-width:0.8;\" x=\"31.114286\" xlink:href=\"#mdc0964358e\" y=\"55.028571\"/>\n      </g>\n     </g>\n     <g id=\"text_1\">\n      <!-- Smart -->\n      <defs>\n       <path d=\"M 53.515625 70.515625 \nL 53.515625 60.890625 \nQ 47.90625 63.578125 42.921875 64.890625 \nQ 37.9375 66.21875 33.296875 66.21875 \nQ 25.25 66.21875 20.875 63.09375 \nQ 16.5 59.96875 16.5 54.203125 \nQ 16.5 49.359375 19.40625 46.890625 \nQ 22.3125 44.4375 30.421875 42.921875 \nL 36.375 41.703125 \nQ 47.40625 39.59375 52.65625 34.296875 \nQ 57.90625 29 57.90625 20.125 \nQ 57.90625 9.515625 50.796875 4.046875 \nQ 43.703125 -1.421875 29.984375 -1.421875 \nQ 24.8125 -1.421875 18.96875 -0.25 \nQ 13.140625 0.921875 6.890625 3.21875 \nL 6.890625 13.375 \nQ 12.890625 10.015625 18.65625 8.296875 \nQ 24.421875 6.59375 29.984375 6.59375 \nQ 38.421875 6.59375 43.015625 9.90625 \nQ 47.609375 13.234375 47.609375 19.390625 \nQ 47.609375 24.75 44.3125 27.78125 \nQ 41.015625 30.8125 33.5 32.328125 \nL 27.484375 33.5 \nQ 16.453125 35.6875 11.515625 40.375 \nQ 6.59375 45.0625 6.59375 53.421875 \nQ 6.59375 63.09375 13.40625 68.65625 \nQ 20.21875 74.21875 32.171875 74.21875 \nQ 37.3125 74.21875 42.625 73.28125 \nQ 47.953125 72.359375 53.515625 70.515625 \nz\n\" id=\"DejaVuSans-83\"/>\n       <path d=\"M 52 44.1875 \nQ 55.375 50.25 60.0625 53.125 \nQ 64.75 56 71.09375 56 \nQ 79.640625 56 84.28125 50.015625 \nQ 88.921875 44.046875 88.921875 33.015625 \nL 88.921875 0 \nL 79.890625 0 \nL 79.890625 32.71875 \nQ 79.890625 40.578125 77.09375 44.375 \nQ 74.3125 48.1875 68.609375 48.1875 \nQ 61.625 48.1875 57.5625 43.546875 \nQ 53.515625 38.921875 53.515625 30.90625 \nL 53.515625 0 \nL 44.484375 0 \nL 44.484375 32.71875 \nQ 44.484375 40.625 41.703125 44.40625 \nQ 38.921875 48.1875 33.109375 48.1875 \nQ 26.21875 48.1875 22.15625 43.53125 \nQ 18.109375 38.875 18.109375 30.90625 \nL 18.109375 0 \nL 9.078125 0 \nL 9.078125 54.6875 \nL 18.109375 54.6875 \nL 18.109375 46.1875 \nQ 21.1875 51.21875 25.484375 53.609375 \nQ 29.78125 56 35.6875 56 \nQ 41.65625 56 45.828125 52.96875 \nQ 50 49.953125 52 44.1875 \nz\n\" id=\"DejaVuSans-109\"/>\n       <path d=\"M 34.28125 27.484375 \nQ 23.390625 27.484375 19.1875 25 \nQ 14.984375 22.515625 14.984375 16.5 \nQ 14.984375 11.71875 18.140625 8.90625 \nQ 21.296875 6.109375 26.703125 6.109375 \nQ 34.1875 6.109375 38.703125 11.40625 \nQ 43.21875 16.703125 43.21875 25.484375 \nL 43.21875 27.484375 \nz\nM 52.203125 31.203125 \nL 52.203125 0 \nL 43.21875 0 \nL 43.21875 8.296875 \nQ 40.140625 3.328125 35.546875 0.953125 \nQ 30.953125 -1.421875 24.3125 -1.421875 \nQ 15.921875 -1.421875 10.953125 3.296875 \nQ 6 8.015625 6 15.921875 \nQ 6 25.140625 12.171875 29.828125 \nQ 18.359375 34.515625 30.609375 34.515625 \nL 43.21875 34.515625 \nL 43.21875 35.40625 \nQ 43.21875 41.609375 39.140625 45 \nQ 35.0625 48.390625 27.6875 48.390625 \nQ 23 48.390625 18.546875 47.265625 \nQ 14.109375 46.140625 10.015625 43.890625 \nL 10.015625 52.203125 \nQ 14.9375 54.109375 19.578125 55.046875 \nQ 24.21875 56 28.609375 56 \nQ 40.484375 56 46.34375 49.84375 \nQ 52.203125 43.703125 52.203125 31.203125 \nz\n\" id=\"DejaVuSans-97\"/>\n       <path d=\"M 41.109375 46.296875 \nQ 39.59375 47.171875 37.8125 47.578125 \nQ 36.03125 48 33.890625 48 \nQ 26.265625 48 22.1875 43.046875 \nQ 18.109375 38.09375 18.109375 28.8125 \nL 18.109375 0 \nL 9.078125 0 \nL 9.078125 54.6875 \nL 18.109375 54.6875 \nL 18.109375 46.1875 \nQ 20.953125 51.171875 25.484375 53.578125 \nQ 30.03125 56 36.53125 56 \nQ 37.453125 56 38.578125 55.875 \nQ 39.703125 55.765625 41.0625 55.515625 \nz\n\" id=\"DejaVuSans-114\"/>\n       <path d=\"M 18.3125 70.21875 \nL 18.3125 54.6875 \nL 36.8125 54.6875 \nL 36.8125 47.703125 \nL 18.3125 47.703125 \nL 18.3125 18.015625 \nQ 18.3125 11.328125 20.140625 9.421875 \nQ 21.96875 7.515625 27.59375 7.515625 \nL 36.8125 7.515625 \nL 36.8125 0 \nL 27.59375 0 \nQ 17.1875 0 13.234375 3.875 \nQ 9.28125 7.765625 9.28125 18.015625 \nL 9.28125 47.703125 \nL 2.6875 47.703125 \nL 2.6875 54.6875 \nL 9.28125 54.6875 \nL 9.28125 70.21875 \nz\n\" id=\"DejaVuSans-116\"/>\n      </defs>\n      <g transform=\"translate(15.990067 69.627009)scale(0.1 -0.1)\">\n       <use xlink:href=\"#DejaVuSans-83\"/>\n       <use x=\"63.476562\" xlink:href=\"#DejaVuSans-109\"/>\n       <use x=\"160.888672\" xlink:href=\"#DejaVuSans-97\"/>\n       <use x=\"222.167969\" xlink:href=\"#DejaVuSans-114\"/>\n       <use x=\"263.28125\" xlink:href=\"#DejaVuSans-116\"/>\n      </g>\n     </g>\n    </g>\n    <g id=\"xtick_2\">\n     <g id=\"line2d_2\">\n      <g>\n       <use style=\"stroke:#000000;stroke-width:0.8;\" x=\"78.942857\" xlink:href=\"#mdc0964358e\" y=\"55.028571\"/>\n      </g>\n     </g>\n     <g id=\"text_2\">\n      <!-- Cross -->\n      <defs>\n       <path d=\"M 64.40625 67.28125 \nL 64.40625 56.890625 \nQ 59.421875 61.53125 53.78125 63.8125 \nQ 48.140625 66.109375 41.796875 66.109375 \nQ 29.296875 66.109375 22.65625 58.46875 \nQ 16.015625 50.828125 16.015625 36.375 \nQ 16.015625 21.96875 22.65625 14.328125 \nQ 29.296875 6.6875 41.796875 6.6875 \nQ 48.140625 6.6875 53.78125 8.984375 \nQ 59.421875 11.28125 64.40625 15.921875 \nL 64.40625 5.609375 \nQ 59.234375 2.09375 53.4375 0.328125 \nQ 47.65625 -1.421875 41.21875 -1.421875 \nQ 24.65625 -1.421875 15.125 8.703125 \nQ 5.609375 18.84375 5.609375 36.375 \nQ 5.609375 53.953125 15.125 64.078125 \nQ 24.65625 74.21875 41.21875 74.21875 \nQ 47.75 74.21875 53.53125 72.484375 \nQ 59.328125 70.75 64.40625 67.28125 \nz\n\" id=\"DejaVuSans-67\"/>\n       <path d=\"M 30.609375 48.390625 \nQ 23.390625 48.390625 19.1875 42.75 \nQ 14.984375 37.109375 14.984375 27.296875 \nQ 14.984375 17.484375 19.15625 11.84375 \nQ 23.34375 6.203125 30.609375 6.203125 \nQ 37.796875 6.203125 41.984375 11.859375 \nQ 46.1875 17.53125 46.1875 27.296875 \nQ 46.1875 37.015625 41.984375 42.703125 \nQ 37.796875 48.390625 30.609375 48.390625 \nz\nM 30.609375 56 \nQ 42.328125 56 49.015625 48.375 \nQ 55.71875 40.765625 55.71875 27.296875 \nQ 55.71875 13.875 49.015625 6.21875 \nQ 42.328125 -1.421875 30.609375 -1.421875 \nQ 18.84375 -1.421875 12.171875 6.21875 \nQ 5.515625 13.875 5.515625 27.296875 \nQ 5.515625 40.765625 12.171875 48.375 \nQ 18.84375 56 30.609375 56 \nz\n\" id=\"DejaVuSans-111\"/>\n       <path d=\"M 44.28125 53.078125 \nL 44.28125 44.578125 \nQ 40.484375 46.53125 36.375 47.5 \nQ 32.28125 48.484375 27.875 48.484375 \nQ 21.1875 48.484375 17.84375 46.4375 \nQ 14.5 44.390625 14.5 40.28125 \nQ 14.5 37.15625 16.890625 35.375 \nQ 19.28125 33.59375 26.515625 31.984375 \nL 29.59375 31.296875 \nQ 39.15625 29.25 43.1875 25.515625 \nQ 47.21875 21.78125 47.21875 15.09375 \nQ 47.21875 7.46875 41.1875 3.015625 \nQ 35.15625 -1.421875 24.609375 -1.421875 \nQ 20.21875 -1.421875 15.453125 -0.5625 \nQ 10.6875 0.296875 5.421875 2 \nL 5.421875 11.28125 \nQ 10.40625 8.6875 15.234375 7.390625 \nQ 20.0625 6.109375 24.8125 6.109375 \nQ 31.15625 6.109375 34.5625 8.28125 \nQ 37.984375 10.453125 37.984375 14.40625 \nQ 37.984375 18.0625 35.515625 20.015625 \nQ 33.0625 21.96875 24.703125 23.78125 \nL 21.578125 24.515625 \nQ 13.234375 26.265625 9.515625 29.90625 \nQ 5.8125 33.546875 5.8125 39.890625 \nQ 5.8125 47.609375 11.28125 51.796875 \nQ 16.75 56 26.8125 56 \nQ 31.78125 56 36.171875 55.265625 \nQ 40.578125 54.546875 44.28125 53.078125 \nz\n\" id=\"DejaVuSans-115\"/>\n      </defs>\n      <g transform=\"translate(65.128795 69.627009)scale(0.1 -0.1)\">\n       <use xlink:href=\"#DejaVuSans-67\"/>\n       <use x=\"69.824219\" xlink:href=\"#DejaVuSans-114\"/>\n       <use x=\"110.90625\" xlink:href=\"#DejaVuSans-111\"/>\n       <use x=\"172.087891\" xlink:href=\"#DejaVuSans-115\"/>\n       <use x=\"224.1875\" xlink:href=\"#DejaVuSans-115\"/>\n      </g>\n     </g>\n    </g>\n    <g id=\"xtick_3\">\n     <g id=\"line2d_3\">\n      <g>\n       <use style=\"stroke:#000000;stroke-width:0.8;\" x=\"126.771429\" xlink:href=\"#mdc0964358e\" y=\"55.028571\"/>\n      </g>\n     </g>\n     <g id=\"text_3\">\n      <!-- Head -->\n      <defs>\n       <path d=\"M 9.8125 72.90625 \nL 19.671875 72.90625 \nL 19.671875 43.015625 \nL 55.515625 43.015625 \nL 55.515625 72.90625 \nL 65.375 72.90625 \nL 65.375 0 \nL 55.515625 0 \nL 55.515625 34.71875 \nL 19.671875 34.71875 \nL 19.671875 0 \nL 9.8125 0 \nz\n\" id=\"DejaVuSans-72\"/>\n       <path d=\"M 56.203125 29.59375 \nL 56.203125 25.203125 \nL 14.890625 25.203125 \nQ 15.484375 15.921875 20.484375 11.0625 \nQ 25.484375 6.203125 34.421875 6.203125 \nQ 39.59375 6.203125 44.453125 7.46875 \nQ 49.3125 8.734375 54.109375 11.28125 \nL 54.109375 2.78125 \nQ 49.265625 0.734375 44.1875 -0.34375 \nQ 39.109375 -1.421875 33.890625 -1.421875 \nQ 20.796875 -1.421875 13.15625 6.1875 \nQ 5.515625 13.8125 5.515625 26.8125 \nQ 5.515625 40.234375 12.765625 48.109375 \nQ 20.015625 56 32.328125 56 \nQ 43.359375 56 49.78125 48.890625 \nQ 56.203125 41.796875 56.203125 29.59375 \nz\nM 47.21875 32.234375 \nQ 47.125 39.59375 43.09375 43.984375 \nQ 39.0625 48.390625 32.421875 48.390625 \nQ 24.90625 48.390625 20.390625 44.140625 \nQ 15.875 39.890625 15.1875 32.171875 \nz\n\" id=\"DejaVuSans-101\"/>\n       <path d=\"M 45.40625 46.390625 \nL 45.40625 75.984375 \nL 54.390625 75.984375 \nL 54.390625 0 \nL 45.40625 0 \nL 45.40625 8.203125 \nQ 42.578125 3.328125 38.25 0.953125 \nQ 33.9375 -1.421875 27.875 -1.421875 \nQ 17.96875 -1.421875 11.734375 6.484375 \nQ 5.515625 14.40625 5.515625 27.296875 \nQ 5.515625 40.1875 11.734375 48.09375 \nQ 17.96875 56 27.875 56 \nQ 33.9375 56 38.25 53.625 \nQ 42.578125 51.265625 45.40625 46.390625 \nz\nM 14.796875 27.296875 \nQ 14.796875 17.390625 18.875 11.75 \nQ 22.953125 6.109375 30.078125 6.109375 \nQ 37.203125 6.109375 41.296875 11.75 \nQ 45.40625 17.390625 45.40625 27.296875 \nQ 45.40625 37.203125 41.296875 42.84375 \nQ 37.203125 48.484375 30.078125 48.484375 \nQ 22.953125 48.484375 18.875 42.84375 \nQ 14.796875 37.203125 14.796875 27.296875 \nz\n\" id=\"DejaVuSans-100\"/>\n      </defs>\n      <g transform=\"translate(113.696429 69.627009)scale(0.1 -0.1)\">\n       <use xlink:href=\"#DejaVuSans-72\"/>\n       <use x=\"75.195312\" xlink:href=\"#DejaVuSans-101\"/>\n       <use x=\"136.71875\" xlink:href=\"#DejaVuSans-97\"/>\n       <use x=\"197.998047\" xlink:href=\"#DejaVuSans-100\"/>\n      </g>\n     </g>\n    </g>\n    <g id=\"xtick_4\">\n     <g id=\"line2d_4\">\n      <g>\n       <use style=\"stroke:#000000;stroke-width:0.8;\" x=\"174.6\" xlink:href=\"#mdc0964358e\" y=\"55.028571\"/>\n      </g>\n     </g>\n     <g id=\"text_4\">\n      <!-- Simple -->\n      <defs>\n       <path d=\"M 9.421875 54.6875 \nL 18.40625 54.6875 \nL 18.40625 0 \nL 9.421875 0 \nz\nM 9.421875 75.984375 \nL 18.40625 75.984375 \nL 18.40625 64.59375 \nL 9.421875 64.59375 \nz\n\" id=\"DejaVuSans-105\"/>\n       <path d=\"M 18.109375 8.203125 \nL 18.109375 -20.796875 \nL 9.078125 -20.796875 \nL 9.078125 54.6875 \nL 18.109375 54.6875 \nL 18.109375 46.390625 \nQ 20.953125 51.265625 25.265625 53.625 \nQ 29.59375 56 35.59375 56 \nQ 45.5625 56 51.78125 48.09375 \nQ 58.015625 40.1875 58.015625 27.296875 \nQ 58.015625 14.40625 51.78125 6.484375 \nQ 45.5625 -1.421875 35.59375 -1.421875 \nQ 29.59375 -1.421875 25.265625 0.953125 \nQ 20.953125 3.328125 18.109375 8.203125 \nz\nM 48.6875 27.296875 \nQ 48.6875 37.203125 44.609375 42.84375 \nQ 40.53125 48.484375 33.40625 48.484375 \nQ 26.265625 48.484375 22.1875 42.84375 \nQ 18.109375 37.203125 18.109375 27.296875 \nQ 18.109375 17.390625 22.1875 11.75 \nQ 26.265625 6.109375 33.40625 6.109375 \nQ 40.53125 6.109375 44.609375 11.75 \nQ 48.6875 17.390625 48.6875 27.296875 \nz\n\" id=\"DejaVuSans-112\"/>\n       <path d=\"M 9.421875 75.984375 \nL 18.40625 75.984375 \nL 18.40625 0 \nL 9.421875 0 \nz\n\" id=\"DejaVuSans-108\"/>\n      </defs>\n      <g transform=\"translate(157.526562 69.627009)scale(0.1 -0.1)\">\n       <use xlink:href=\"#DejaVuSans-83\"/>\n       <use x=\"63.476562\" xlink:href=\"#DejaVuSans-105\"/>\n       <use x=\"91.259766\" xlink:href=\"#DejaVuSans-109\"/>\n       <use x=\"188.671875\" xlink:href=\"#DejaVuSans-112\"/>\n       <use x=\"252.148438\" xlink:href=\"#DejaVuSans-108\"/>\n       <use x=\"279.931641\" xlink:href=\"#DejaVuSans-101\"/>\n      </g>\n     </g>\n    </g>\n    <g id=\"xtick_5\">\n     <g id=\"line2d_5\">\n      <g>\n       <use style=\"stroke:#000000;stroke-width:0.8;\" x=\"222.428571\" xlink:href=\"#mdc0964358e\" y=\"55.028571\"/>\n      </g>\n     </g>\n     <g id=\"text_5\">\n      <!-- High -->\n      <defs>\n       <path d=\"M 45.40625 27.984375 \nQ 45.40625 37.75 41.375 43.109375 \nQ 37.359375 48.484375 30.078125 48.484375 \nQ 22.859375 48.484375 18.828125 43.109375 \nQ 14.796875 37.75 14.796875 27.984375 \nQ 14.796875 18.265625 18.828125 12.890625 \nQ 22.859375 7.515625 30.078125 7.515625 \nQ 37.359375 7.515625 41.375 12.890625 \nQ 45.40625 18.265625 45.40625 27.984375 \nz\nM 54.390625 6.78125 \nQ 54.390625 -7.171875 48.1875 -13.984375 \nQ 42 -20.796875 29.203125 -20.796875 \nQ 24.46875 -20.796875 20.265625 -20.09375 \nQ 16.0625 -19.390625 12.109375 -17.921875 \nL 12.109375 -9.1875 \nQ 16.0625 -11.328125 19.921875 -12.34375 \nQ 23.78125 -13.375 27.78125 -13.375 \nQ 36.625 -13.375 41.015625 -8.765625 \nQ 45.40625 -4.15625 45.40625 5.171875 \nL 45.40625 9.625 \nQ 42.625 4.78125 38.28125 2.390625 \nQ 33.9375 0 27.875 0 \nQ 17.828125 0 11.671875 7.65625 \nQ 5.515625 15.328125 5.515625 27.984375 \nQ 5.515625 40.671875 11.671875 48.328125 \nQ 17.828125 56 27.875 56 \nQ 33.9375 56 38.28125 53.609375 \nQ 42.625 51.21875 45.40625 46.390625 \nL 45.40625 54.6875 \nL 54.390625 54.6875 \nz\n\" id=\"DejaVuSans-103\"/>\n       <path d=\"M 54.890625 33.015625 \nL 54.890625 0 \nL 45.90625 0 \nL 45.90625 32.71875 \nQ 45.90625 40.484375 42.875 44.328125 \nQ 39.84375 48.1875 33.796875 48.1875 \nQ 26.515625 48.1875 22.3125 43.546875 \nQ 18.109375 38.921875 18.109375 30.90625 \nL 18.109375 0 \nL 9.078125 0 \nL 9.078125 75.984375 \nL 18.109375 75.984375 \nL 18.109375 46.1875 \nQ 21.34375 51.125 25.703125 53.5625 \nQ 30.078125 56 35.796875 56 \nQ 45.21875 56 50.046875 50.171875 \nQ 54.890625 44.34375 54.890625 33.015625 \nz\n\" id=\"DejaVuSans-104\"/>\n      </defs>\n      <g transform=\"translate(210.936384 69.627009)scale(0.1 -0.1)\">\n       <use xlink:href=\"#DejaVuSans-72\"/>\n       <use x=\"75.195312\" xlink:href=\"#DejaVuSans-105\"/>\n       <use x=\"102.978516\" xlink:href=\"#DejaVuSans-103\"/>\n       <use x=\"166.455078\" xlink:href=\"#DejaVuSans-104\"/>\n      </g>\n     </g>\n    </g>\n    <g id=\"xtick_6\">\n     <g id=\"line2d_6\">\n      <g>\n       <use style=\"stroke:#000000;stroke-width:0.8;\" x=\"270.257143\" xlink:href=\"#mdc0964358e\" y=\"55.028571\"/>\n      </g>\n     </g>\n     <g id=\"text_6\">\n      <!-- Hand -->\n      <defs>\n       <path d=\"M 54.890625 33.015625 \nL 54.890625 0 \nL 45.90625 0 \nL 45.90625 32.71875 \nQ 45.90625 40.484375 42.875 44.328125 \nQ 39.84375 48.1875 33.796875 48.1875 \nQ 26.515625 48.1875 22.3125 43.546875 \nQ 18.109375 38.921875 18.109375 30.90625 \nL 18.109375 0 \nL 9.078125 0 \nL 9.078125 54.6875 \nL 18.109375 54.6875 \nL 18.109375 46.1875 \nQ 21.34375 51.125 25.703125 53.5625 \nQ 30.078125 56 35.796875 56 \nQ 45.21875 56 50.046875 50.171875 \nQ 54.890625 44.34375 54.890625 33.015625 \nz\n\" id=\"DejaVuSans-110\"/>\n      </defs>\n      <g transform=\"translate(257.089955 69.627009)scale(0.1 -0.1)\">\n       <use xlink:href=\"#DejaVuSans-72\"/>\n       <use x=\"75.195312\" xlink:href=\"#DejaVuSans-97\"/>\n       <use x=\"136.474609\" xlink:href=\"#DejaVuSans-110\"/>\n       <use x=\"199.853516\" xlink:href=\"#DejaVuSans-100\"/>\n      </g>\n     </g>\n    </g>\n    <g id=\"xtick_7\">\n     <g id=\"line2d_7\">\n      <g>\n       <use style=\"stroke:#000000;stroke-width:0.8;\" x=\"318.085714\" xlink:href=\"#mdc0964358e\" y=\"55.028571\"/>\n      </g>\n     </g>\n     <g id=\"text_7\">\n      <!-- Launch -->\n      <defs>\n       <path d=\"M 9.8125 72.90625 \nL 19.671875 72.90625 \nL 19.671875 8.296875 \nL 55.171875 8.296875 \nL 55.171875 0 \nL 9.8125 0 \nz\n\" id=\"DejaVuSans-76\"/>\n       <path d=\"M 8.5 21.578125 \nL 8.5 54.6875 \nL 17.484375 54.6875 \nL 17.484375 21.921875 \nQ 17.484375 14.15625 20.5 10.265625 \nQ 23.53125 6.390625 29.59375 6.390625 \nQ 36.859375 6.390625 41.078125 11.03125 \nQ 45.3125 15.671875 45.3125 23.6875 \nL 45.3125 54.6875 \nL 54.296875 54.6875 \nL 54.296875 0 \nL 45.3125 0 \nL 45.3125 8.40625 \nQ 42.046875 3.421875 37.71875 1 \nQ 33.40625 -1.421875 27.6875 -1.421875 \nQ 18.265625 -1.421875 13.375 4.4375 \nQ 8.5 10.296875 8.5 21.578125 \nz\nM 31.109375 56 \nz\n\" id=\"DejaVuSans-117\"/>\n       <path d=\"M 48.78125 52.59375 \nL 48.78125 44.1875 \nQ 44.96875 46.296875 41.140625 47.34375 \nQ 37.3125 48.390625 33.40625 48.390625 \nQ 24.65625 48.390625 19.8125 42.84375 \nQ 14.984375 37.3125 14.984375 27.296875 \nQ 14.984375 17.28125 19.8125 11.734375 \nQ 24.65625 6.203125 33.40625 6.203125 \nQ 37.3125 6.203125 41.140625 7.25 \nQ 44.96875 8.296875 48.78125 10.40625 \nL 48.78125 2.09375 \nQ 45.015625 0.34375 40.984375 -0.53125 \nQ 36.96875 -1.421875 32.421875 -1.421875 \nQ 20.0625 -1.421875 12.78125 6.34375 \nQ 5.515625 14.109375 5.515625 27.296875 \nQ 5.515625 40.671875 12.859375 48.328125 \nQ 20.21875 56 33.015625 56 \nQ 37.15625 56 41.109375 55.140625 \nQ 45.0625 54.296875 48.78125 52.59375 \nz\n\" id=\"DejaVuSans-99\"/>\n      </defs>\n      <g transform=\"translate(299.980246 69.627009)scale(0.1 -0.1)\">\n       <use xlink:href=\"#DejaVuSans-76\"/>\n       <use x=\"55.712891\" xlink:href=\"#DejaVuSans-97\"/>\n       <use x=\"116.992188\" xlink:href=\"#DejaVuSans-117\"/>\n       <use x=\"180.371094\" xlink:href=\"#DejaVuSans-110\"/>\n       <use x=\"243.75\" xlink:href=\"#DejaVuSans-99\"/>\n       <use x=\"298.730469\" xlink:href=\"#DejaVuSans-104\"/>\n      </g>\n     </g>\n    </g>\n   </g>\n   <g id=\"matplotlib.axis_2\">\n    <g id=\"ytick_1\">\n     <g id=\"line2d_8\">\n      <defs>\n       <path d=\"M 0 0 \nL -3.5 0 \n\" id=\"m4efaadf681\" style=\"stroke:#000000;stroke-width:0.8;\"/>\n      </defs>\n      <g>\n       <use style=\"stroke:#000000;stroke-width:0.8;\" x=\"7.2\" xlink:href=\"#m4efaadf681\" y=\"31.114286\"/>\n      </g>\n     </g>\n    </g>\n   </g>\n   <g id=\"text_8\">\n    <!-- 2 -->\n    <defs>\n     <path d=\"M 19.1875 8.296875 \nL 53.609375 8.296875 \nL 53.609375 0 \nL 7.328125 0 \nL 7.328125 8.296875 \nQ 12.9375 14.109375 22.625 23.890625 \nQ 32.328125 33.6875 34.8125 36.53125 \nQ 39.546875 41.84375 41.421875 45.53125 \nQ 43.3125 49.21875 43.3125 52.78125 \nQ 43.3125 58.59375 39.234375 62.25 \nQ 35.15625 65.921875 28.609375 65.921875 \nQ 23.96875 65.921875 18.8125 64.3125 \nQ 13.671875 62.703125 7.8125 59.421875 \nL 7.8125 69.390625 \nQ 13.765625 71.78125 18.9375 73 \nQ 24.125 74.21875 28.421875 74.21875 \nQ 39.75 74.21875 46.484375 68.546875 \nQ 53.21875 62.890625 53.21875 53.421875 \nQ 53.21875 48.921875 51.53125 44.890625 \nQ 49.859375 40.875 45.40625 35.40625 \nQ 44.1875 33.984375 37.640625 27.21875 \nQ 31.109375 20.453125 19.1875 8.296875 \nz\n\" id=\"DejaVuSans-50\"/>\n    </defs>\n    <g style=\"fill:#ffffff;\" transform=\"translate(27.933036 33.873661)scale(0.1 -0.1)\">\n     <use xlink:href=\"#DejaVuSans-50\"/>\n    </g>\n   </g>\n   <g id=\"text_9\">\n    <!-- 1.5 -->\n    <defs>\n     <path d=\"M 12.40625 8.296875 \nL 28.515625 8.296875 \nL 28.515625 63.921875 \nL 10.984375 60.40625 \nL 10.984375 69.390625 \nL 28.421875 72.90625 \nL 38.28125 72.90625 \nL 38.28125 8.296875 \nL 54.390625 8.296875 \nL 54.390625 0 \nL 12.40625 0 \nz\n\" id=\"DejaVuSans-49\"/>\n     <path d=\"M 10.6875 12.40625 \nL 21 12.40625 \nL 21 0 \nL 10.6875 0 \nz\n\" id=\"DejaVuSans-46\"/>\n     <path d=\"M 10.796875 72.90625 \nL 49.515625 72.90625 \nL 49.515625 64.59375 \nL 19.828125 64.59375 \nL 19.828125 46.734375 \nQ 21.96875 47.46875 24.109375 47.828125 \nQ 26.265625 48.1875 28.421875 48.1875 \nQ 40.625 48.1875 47.75 41.5 \nQ 54.890625 34.8125 54.890625 23.390625 \nQ 54.890625 11.625 47.5625 5.09375 \nQ 40.234375 -1.421875 26.90625 -1.421875 \nQ 22.3125 -1.421875 17.546875 -0.640625 \nQ 12.796875 0.140625 7.71875 1.703125 \nL 7.71875 11.625 \nQ 12.109375 9.234375 16.796875 8.0625 \nQ 21.484375 6.890625 26.703125 6.890625 \nQ 35.15625 6.890625 40.078125 11.328125 \nQ 45.015625 15.765625 45.015625 23.390625 \nQ 45.015625 31 40.078125 35.4375 \nQ 35.15625 39.890625 26.703125 39.890625 \nQ 22.75 39.890625 18.8125 39.015625 \nQ 14.890625 38.140625 10.796875 36.28125 \nz\n\" id=\"DejaVuSans-53\"/>\n    </defs>\n    <g style=\"fill:#ffffff;\" transform=\"translate(70.991295 33.873661)scale(0.1 -0.1)\">\n     <use xlink:href=\"#DejaVuSans-49\"/>\n     <use x=\"63.623047\" xlink:href=\"#DejaVuSans-46\"/>\n     <use x=\"95.410156\" xlink:href=\"#DejaVuSans-53\"/>\n    </g>\n   </g>\n   <g id=\"text_10\">\n    <!-- 1.1 -->\n    <g style=\"fill:#262626;\" transform=\"translate(118.819866 33.873661)scale(0.1 -0.1)\">\n     <use xlink:href=\"#DejaVuSans-49\"/>\n     <use x=\"63.623047\" xlink:href=\"#DejaVuSans-46\"/>\n     <use x=\"95.410156\" xlink:href=\"#DejaVuSans-49\"/>\n    </g>\n   </g>\n   <g id=\"text_11\">\n    <!-- 1 -->\n    <g style=\"fill:#262626;\" transform=\"translate(171.41875 33.873661)scale(0.1 -0.1)\">\n     <use xlink:href=\"#DejaVuSans-49\"/>\n    </g>\n   </g>\n   <g id=\"text_12\">\n    <!-- 0.9 -->\n    <defs>\n     <path d=\"M 31.78125 66.40625 \nQ 24.171875 66.40625 20.328125 58.90625 \nQ 16.5 51.421875 16.5 36.375 \nQ 16.5 21.390625 20.328125 13.890625 \nQ 24.171875 6.390625 31.78125 6.390625 \nQ 39.453125 6.390625 43.28125 13.890625 \nQ 47.125 21.390625 47.125 36.375 \nQ 47.125 51.421875 43.28125 58.90625 \nQ 39.453125 66.40625 31.78125 66.40625 \nz\nM 31.78125 74.21875 \nQ 44.046875 74.21875 50.515625 64.515625 \nQ 56.984375 54.828125 56.984375 36.375 \nQ 56.984375 17.96875 50.515625 8.265625 \nQ 44.046875 -1.421875 31.78125 -1.421875 \nQ 19.53125 -1.421875 13.0625 8.265625 \nQ 6.59375 17.96875 6.59375 36.375 \nQ 6.59375 54.828125 13.0625 64.515625 \nQ 19.53125 74.21875 31.78125 74.21875 \nz\n\" id=\"DejaVuSans-48\"/>\n     <path d=\"M 10.984375 1.515625 \nL 10.984375 10.5 \nQ 14.703125 8.734375 18.5 7.8125 \nQ 22.3125 6.890625 25.984375 6.890625 \nQ 35.75 6.890625 40.890625 13.453125 \nQ 46.046875 20.015625 46.78125 33.40625 \nQ 43.953125 29.203125 39.59375 26.953125 \nQ 35.25 24.703125 29.984375 24.703125 \nQ 19.046875 24.703125 12.671875 31.3125 \nQ 6.296875 37.9375 6.296875 49.421875 \nQ 6.296875 60.640625 12.9375 67.421875 \nQ 19.578125 74.21875 30.609375 74.21875 \nQ 43.265625 74.21875 49.921875 64.515625 \nQ 56.59375 54.828125 56.59375 36.375 \nQ 56.59375 19.140625 48.40625 8.859375 \nQ 40.234375 -1.421875 26.421875 -1.421875 \nQ 22.703125 -1.421875 18.890625 -0.6875 \nQ 15.09375 0.046875 10.984375 1.515625 \nz\nM 30.609375 32.421875 \nQ 37.25 32.421875 41.125 36.953125 \nQ 45.015625 41.5 45.015625 49.421875 \nQ 45.015625 57.28125 41.125 61.84375 \nQ 37.25 66.40625 30.609375 66.40625 \nQ 23.96875 66.40625 20.09375 61.84375 \nQ 16.21875 57.28125 16.21875 49.421875 \nQ 16.21875 41.5 20.09375 36.953125 \nQ 23.96875 32.421875 30.609375 32.421875 \nz\n\" id=\"DejaVuSans-57\"/>\n    </defs>\n    <g style=\"fill:#262626;\" transform=\"translate(214.477009 33.873661)scale(0.1 -0.1)\">\n     <use xlink:href=\"#DejaVuSans-48\"/>\n     <use x=\"63.623047\" xlink:href=\"#DejaVuSans-46\"/>\n     <use x=\"95.410156\" xlink:href=\"#DejaVuSans-57\"/>\n    </g>\n   </g>\n   <g id=\"text_13\">\n    <!-- 0.6 -->\n    <defs>\n     <path d=\"M 33.015625 40.375 \nQ 26.375 40.375 22.484375 35.828125 \nQ 18.609375 31.296875 18.609375 23.390625 \nQ 18.609375 15.53125 22.484375 10.953125 \nQ 26.375 6.390625 33.015625 6.390625 \nQ 39.65625 6.390625 43.53125 10.953125 \nQ 47.40625 15.53125 47.40625 23.390625 \nQ 47.40625 31.296875 43.53125 35.828125 \nQ 39.65625 40.375 33.015625 40.375 \nz\nM 52.59375 71.296875 \nL 52.59375 62.3125 \nQ 48.875 64.0625 45.09375 64.984375 \nQ 41.3125 65.921875 37.59375 65.921875 \nQ 27.828125 65.921875 22.671875 59.328125 \nQ 17.53125 52.734375 16.796875 39.40625 \nQ 19.671875 43.65625 24.015625 45.921875 \nQ 28.375 48.1875 33.59375 48.1875 \nQ 44.578125 48.1875 50.953125 41.515625 \nQ 57.328125 34.859375 57.328125 23.390625 \nQ 57.328125 12.15625 50.6875 5.359375 \nQ 44.046875 -1.421875 33.015625 -1.421875 \nQ 20.359375 -1.421875 13.671875 8.265625 \nQ 6.984375 17.96875 6.984375 36.375 \nQ 6.984375 53.65625 15.1875 63.9375 \nQ 23.390625 74.21875 37.203125 74.21875 \nQ 40.921875 74.21875 44.703125 73.484375 \nQ 48.484375 72.75 52.59375 71.296875 \nz\n\" id=\"DejaVuSans-54\"/>\n    </defs>\n    <g style=\"fill:#262626;\" transform=\"translate(262.30558 33.873661)scale(0.1 -0.1)\">\n     <use xlink:href=\"#DejaVuSans-48\"/>\n     <use x=\"63.623047\" xlink:href=\"#DejaVuSans-46\"/>\n     <use x=\"95.410156\" xlink:href=\"#DejaVuSans-54\"/>\n    </g>\n   </g>\n   <g id=\"text_14\">\n    <!-- 0.5 -->\n    <g style=\"fill:#262626;\" transform=\"translate(310.134152 33.873661)scale(0.1 -0.1)\">\n     <use xlink:href=\"#DejaVuSans-48\"/>\n     <use x=\"63.623047\" xlink:href=\"#DejaVuSans-46\"/>\n     <use x=\"95.410156\" xlink:href=\"#DejaVuSans-53\"/>\n    </g>\n   </g>\n  </g>\n </g>\n <defs>\n  <clipPath id=\"pd778f7e30a\">\n   <rect height=\"47.828571\" width=\"334.8\" x=\"7.2\" y=\"7.2\"/>\n  </clipPath>\n </defs>\n</svg>\n",
      "text/plain": "<Figure size 432x288 with 1 Axes>"
     },
     "metadata": {
      "needs_background": "light"
     },
     "output_type": "display_data"
    }
   ],
   "source": [
    "ValueDict=[[2.0,1.5,1.1,1.0,0.9,0.6,0.5]]\n",
    "temp=pd.DataFrame(ValueDict)\n",
    "temp=temp.rename(columns={0:\"Smart\",1:\"Cross\",2:\"Head\",3:\"Simple\",4:\"High\",5:\"Hand\",6:\"Launch\"},index={0:\"\"})\n",
    "sns.heatmap(temp,cmap=sns.light_palette(\"seagreen\"),cbar=False,square=True,annot=True)\n",
    "plt.savefig(\"./Pass/PassType.png\")\n",
    "print(temp)"
   ]
  },
  {
   "cell_type": "code",
   "execution_count": null,
   "metadata": {},
   "outputs": [],
   "source": []
  }
 ]
}