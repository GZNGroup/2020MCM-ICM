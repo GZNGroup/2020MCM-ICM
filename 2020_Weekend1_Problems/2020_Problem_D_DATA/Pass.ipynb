{
 "nbformat": 4,
 "nbformat_minor": 2,
 "metadata": {
  "language_info": {
   "name": "python",
   "codemirror_mode": {
    "name": "ipython",
    "version": 3
   },
   "version": "3.7.5-final"
  },
  "orig_nbformat": 2,
  "file_extension": ".py",
  "mimetype": "text/x-python",
  "name": "python",
  "npconvert_exporter": "python",
  "pygments_lexer": "ipython3",
  "version": 3,
  "kernelspec": {
   "name": "python37564bit2e4d7e2118444c66823957f010be2de2",
   "display_name": "Python 3.7.5 64-bit"
  }
 },
 "cells": [
  {
   "cell_type": "code",
   "execution_count": 77,
   "metadata": {},
   "outputs": [],
   "source": [
    "import pandas"
   ]
  },
  {
   "cell_type": "markdown",
   "metadata": {},
   "source": [
    "PlayersDict={\n",
    "    \"Huskies_G1\":0,\n",
    "    \"Huskies_D1\":1,\n",
    "    \"Huskies_D2\":2,\n",
    "    \"Huskies_D3\":3,\n",
    "    \"Huskies_D4\":4,\n",
    "    \"Huskies_D5\":5,\n",
    "    \"Huskies_D6\":6,\n",
    "    \"Huskies_D7\":7,\n",
    "    \"Huskies_D8\":8,\n",
    "    \"Huskies_D9\":9,\n",
    "    \"Huskies_D10\":10,\n",
    "    \"Huskies_M1\":11,\n",
    "    \"Huskies_M2\":12,\n",
    "    \"Huskies_M3\":13,\n",
    "    \"Huskies_M4\":14,\n",
    "    \"Huskies_M5\":15,\n",
    "    \"Huskies_M6\":16,\n",
    "    \"Huskies_M7\":17,\n",
    "    \"Huskies_M8\":18,\n",
    "    \"Huskies_M9\":19,\n",
    "    \"Huskies_M10\":20,\n",
    "    \"Huskies_M11\":21,\n",
    "    \"Huskies_M12\":22,\n",
    "    \"Huskies_M13\":23,\n",
    "    \"Huskies_F1\":24,\n",
    "    \"Huskies_F2\":25,\n",
    "    \"Huskies_F3\":26,\n",
    "    \"Huskies_F4\":27,\n",
    "    \"Huskies_F5\":28,\n",
    "    \"Huskies_F6\":29\n",
    "}"
   ]
  },
  {
   "cell_type": "code",
   "execution_count": 78,
   "metadata": {},
   "outputs": [],
   "source": [
    "PassTotal=[]\n",
    "for _ in range(30):\n",
    "    PassTotal.append([0]*30)\n",
    "Pass=[]\n",
    "for _ in range(38):\n",
    "    temp=[]\n",
    "    for _ in range(30):\n",
    "        temp.append([0]*30)\n",
    "    Pass.append(temp)"
   ]
  },
  {
   "cell_type": "code",
   "execution_count": 79,
   "metadata": {},
   "outputs": [],
   "source": [
    "data=pandas.read_csv(\"passingevents.csv\")\n",
    "\"\"\"print(data[\"EventOrigin_x\"].max(),data[\"EventOrigin_x\"].min()) #100\n",
    "print(data[\"EventOrigin_y\"].max(),data[\"EventOrigin_y\"].min())\n",
    "print(data[\"EventDestination_x\"].max(),data[\"EventDestination_x\"].min())\n",
    "print(data[\"EventDestination_y\"].max(),data[\"EventDestination_y\"].min())\"\"\"\n",
    "N=data.shape[0]\n",
    "#count=0\n",
    "for i in range(N):\n",
    "    if data[\"TeamID\"][i]==\"Huskies\":\n",
    "        OP=data[\"OriginPlayerID\"][i]\n",
    "        DP=data[\"DestinationPlayerID\"][i]\n",
    "        \"\"\"if OP==DP:\n",
    "            print(data[i:i+1])\n",
    "            count+=1\"\"\"\n",
    "        PassTotal[PlayersDict[OP]][PlayersDict[DP]]+=1\n",
    "        Pass[data[\"MatchID\"][i]-1][PlayersDict[OP]][PlayersDict[DP]]+=1\n",
    "#print(count)\n",
    "\n",
    "#print(pandas.DataFrame(PassTotal))\n",
    "#print(pandas.DataFrame(Pass[0]))"
   ]
  },
  {
   "cell_type": "code",
   "execution_count": 80,
   "metadata": {},
   "outputs": [
    {
     "name": "stdout",
     "output_type": "stream",
     "text": "[[311, 11, 13], [299, 11, 25], [203, 1, 3], [183, 0, 1], [181, 5, 25]]\n[[731, 11, 13, 25], [634, 5, 11, 25], [613, 1, 11, 13], [603, 4, 11, 13], [601, 5, 11, 13]]\n[[1202, 5, 11, 13, 25], [1153, 4, 11, 13, 25], [1137, 1, 11, 13, 25], [1054, 3, 11, 13, 25], [1044, 11, 13, 16, 25]]\n"
    }
   ],
   "source": [
    "doub=[]\n",
    "trip=[]\n",
    "quad=[]\n",
    "for i in range(30):\n",
    "    for j in range(i+1,30):\n",
    "        sum=PassTotal[i][j]+PassTotal[j][i]\n",
    "        doub.append([sum,i,j])\n",
    "        for k in range(j+1,30):\n",
    "            sum=PassTotal[i][j]+PassTotal[j][i]+PassTotal[i][k]+PassTotal[k][i]+PassTotal[k][j]+PassTotal[j][k]\n",
    "            trip.append([sum,i,j,k])\n",
    "            for l in range(k+1,30):\n",
    "                sum=PassTotal[i][j]+PassTotal[j][i]+PassTotal[i][k]+PassTotal[k][i]+PassTotal[k][j]+PassTotal[j][k]+PassTotal[i][l]+PassTotal[l][i]+PassTotal[j][l]+PassTotal[l][j]+PassTotal[k][l]+PassTotal[l][k]\n",
    "                quad.append([sum,i,j,k,l])\n",
    "\n",
    "doub.sort(key=lambda x:x[0],reverse=True)\n",
    "trip.sort(key=lambda x:x[0],reverse=True)\n",
    "quad.sort(key=lambda x:x[0],reverse=True)\n",
    "print(doub[:5])\n",
    "print(trip[:5])\n",
    "print(quad[:5])"
   ]
  }
 ]
}