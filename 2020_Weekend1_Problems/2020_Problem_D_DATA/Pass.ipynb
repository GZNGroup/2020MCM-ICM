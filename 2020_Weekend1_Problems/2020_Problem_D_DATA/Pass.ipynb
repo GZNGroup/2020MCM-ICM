{
 "nbformat": 4,
 "nbformat_minor": 2,
 "metadata": {
  "language_info": {
   "name": "python",
   "codemirror_mode": {
    "name": "ipython",
    "version": 3
   },
   "version": "3.7.5-final"
  },
  "orig_nbformat": 2,
  "file_extension": ".py",
  "mimetype": "text/x-python",
  "name": "python",
  "npconvert_exporter": "python",
  "pygments_lexer": "ipython3",
  "version": 3,
  "kernelspec": {
   "name": "python37564bit2e4d7e2118444c66823957f010be2de2",
   "display_name": "Python 3.7.5 64-bit"
  }
 },
 "cells": [
  {
   "cell_type": "code",
   "execution_count": 176,
   "metadata": {},
   "outputs": [],
   "source": [
    "import pandas"
   ]
  },
  {
   "cell_type": "markdown",
   "metadata": {},
   "source": [
    "PlayersDict={\n",
    "    \"Huskies_G1\":0,\n",
    "    \"Huskies_D1\":1,\n",
    "    \"Huskies_D2\":2,\n",
    "    \"Huskies_D3\":3,\n",
    "    \"Huskies_D4\":4,\n",
    "    \"Huskies_D5\":5,\n",
    "    \"Huskies_D6\":6,\n",
    "    \"Huskies_D7\":7,\n",
    "    \"Huskies_D8\":8,\n",
    "    \"Huskies_D9\":9,\n",
    "    \"Huskies_D10\":10,\n",
    "    \"Huskies_M1\":11,\n",
    "    \"Huskies_M2\":12,\n",
    "    \"Huskies_M3\":13,\n",
    "    \"Huskies_M4\":14,\n",
    "    \"Huskies_M5\":15,\n",
    "    \"Huskies_M6\":16,\n",
    "    \"Huskies_M7\":17,\n",
    "    \"Huskies_M8\":18,\n",
    "    \"Huskies_M9\":19,\n",
    "    \"Huskies_M10\":20,\n",
    "    \"Huskies_M11\":21,\n",
    "    \"Huskies_M12\":22,\n",
    "    \"Huskies_M13\":23,\n",
    "    \"Huskies_F1\":24,\n",
    "    \"Huskies_F2\":25,\n",
    "    \"Huskies_F3\":26,\n",
    "    \"Huskies_F4\":27,\n",
    "    \"Huskies_F5\":28,\n",
    "    \"Huskies_F6\":29\n",
    "}"
   ]
  },
  {
   "cell_type": "code",
   "execution_count": 177,
   "metadata": {},
   "outputs": [],
   "source": [
    "Pass=[]\n",
    "for _ in range(30):\n",
    "    Pass.append([0]*30)"
   ]
  },
  {
   "cell_type": "code",
   "execution_count": 178,
   "metadata": {},
   "outputs": [
    {
     "name": "stdout",
     "output_type": "stream",
     "text": "0   1   2    3   4   5   6   7   8   9   ...  20  21  22  23  24   25  \\\n0     2  76  29   49  14  22  27  18   7   9  ...   0   0  12   1  77   22   \n1   107   2  59  105  73  57  25  34  23   6  ...   2   2  13   2  23   49   \n2    62  62   2   49  39  47  52  26   2   8  ...   1   4   2   1  13   56   \n3   120  98  35    5  59  14   6  18  42   0  ...   1   4   9   3  21   50   \n4    25  57  30   35   2   1   0   1   2   0  ...   0   3  19   0  25   66   \n5    27  36  40   15   0   6  12   3   2   4  ...   3   1  23   9  42   97   \n6    43  12  34    5   1   8   2  25   1   0  ...   1   1   7   1  28   28   \n7    31  18  17   12   1   2  24   1   0   0  ...   6   7   6   4  36   29   \n8    14  12   4   42   0   2   2   0   1   0  ...   0   1  10   0   5   19   \n9     8   7   7    0   0  10   0   1   0   0  ...   0   0   1   0   1    3   \n10    6   1   0   10   8   0   0   0   0   0  ...   0   0   0   0   0    0   \n11   20  85  63   60  79  79  54  70  46   3  ...   8   6  20   4  34  182   \n12    2   2   3    3  12   3   1   0   3   0  ...   0   0   0   0   4    5   \n13   12  74  46   56  88  67  28  44  22   3  ...   4   1  28   8  21   63   \n14    5  30  26   18  28  23  10  41  25   2  ...   6   3   7   0  20   50   \n15    1   1   2    3   4   0   0   4   0   0  ...   0   0   0   0   3    7   \n16    1  16  13   12  50  71   4  20   1   0  ...   2   4  12   4  40   52   \n17    2   3   1    3   1   0   3   0   0   0  ...   0   0   0   0   0    2   \n18    1   1   2    9   1   5   3  31   0   0  ...   1   0   0   3  14   18   \n19    0   4   2    4  10  10  14   7   7   0  ...   1   2   0   5   4    9   \n20    0   3   0    2   1   2   1   9   0   0  ...   0   1   0   0   1    0   \n21    1   0   1    7   2   1   2   7   3   0  ...   0   0   0   0   4    8   \n22    0   4   0    3  24  22   3   8   2   0  ...   0   0   2   0   2   11   \n23    0   3   5    2   0   6   4  12   0   0  ...   0   0   2   1   2    4   \n24    0   5   4    7  18  17   4  12   3   1  ...   2   2   3   2   1   27   \n25    6  55  33   56  64  84  41  32  41   3  ...   0   6  18   3  30    5   \n26    0   2   2    3   3   5   2   4   0   0  ...   0   1   0   0   4   11   \n27    0   0   0    0   6   7   2   2   7   2  ...   2   0   4   0   5    9   \n28    0   1   1    1  20   7   1   4  10   0  ...   0   0  11   3   7   23   \n29    0   8   6    6   7   3   0  15  37   0  ...   0   1   6   3   6   22   \n\n    26  27  28  29  \n0    5  15   8   6  \n1    5  19  19  18  \n2    1   8   4   8  \n3    1   8  14  21  \n4   10  25  33  20  \n5    6  27   6   3  \n6    2   5   4   6  \n7    4  16   6  22  \n8    0  11  18  49  \n9    0   3   0   3  \n10   0   0   1   2  \n11   9  36  13  31  \n12   2   3   0   0  \n13   4  13  12  16  \n14   3  12   6  16  \n15   2   0   0   0  \n16   6  24  14  14  \n17   0   0   0   0  \n18   0   4   1   0  \n19   0   4   4   1  \n20   0   3   0   0  \n21   2   1   1   1  \n22   0   8  14   4  \n23   0   1   3   1  \n24   4   9   3   3  \n25   6  12  15  23  \n26   0   1   0   0  \n27   1   3   5  10  \n28   0   2   1  17  \n29   0  16  18   0  \n\n[30 rows x 30 columns]\n"
    }
   ],
   "source": [
    "data=pandas.read_csv(\"passingevents.csv\")\n",
    "N=data.shape[0]\n",
    "#Players=pandas.DataFrame(data.groupby([\"OriginPlayerID\"]))[0]\n",
    "#MyPlayers=Players[Players.str.contains(\"Huskies\")==True].tolist()\n",
    "#MyPassData=pandas.DataFrame(data.groupby([\"OriginPlayerID\"]))\n",
    "\n",
    "for i in range(N):\n",
    "    if data[\"TeamID\"][i]==\"Huskies\":\n",
    "        OP=data[\"OriginPlayerID\"][i]\n",
    "        DP=data[\"DestinationPlayerID\"][i]\n",
    "        Pass[PlayersDict[OP]][PlayersDict[DP]]+=1\n",
    "#print(Pass)\n",
    "print(pandas.DataFrame(Pass))\n",
    "\n",
    "#print(MyPassData)\n",
    "#print(data.groupby([\"OriginPlayerID\"]).filter(lambda x:x.startwith(\"Huskies\")).size())\n",
    "\n"
   ]
  }
 ]
}